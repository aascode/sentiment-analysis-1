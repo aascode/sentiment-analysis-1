{
  "nbformat": 4,
  "nbformat_minor": 0,
  "metadata": {
    "colab": {
      "name": "plotting_NLP.ipynb",
      "provenance": [],
      "collapsed_sections": [],
      "machine_shape": "hm"
    },
    "kernelspec": {
      "name": "python3",
      "display_name": "Python 3"
    },
    "accelerator": "TPU"
  },
  "cells": [
    {
      "cell_type": "markdown",
      "metadata": {
        "id": "MvKwORjrfciW",
        "colab_type": "text"
      },
      "source": [
        "---\n",
        "# **1. Installation**\n",
        "---"
      ]
    },
    {
      "cell_type": "code",
      "metadata": {
        "id": "ziQyamb7gKSt",
        "colab_type": "code",
        "colab": {
          "base_uri": "https://localhost:8080/",
          "height": 1000
        },
        "outputId": "993a9af5-136e-4638-c73a-c4b95d2d8e5d"
      },
      "source": [
        "!pip install nltk\n",
        "!pip3 install flair\n",
        "!pip install textblob\n",
        "\n",
        "!pip install stanza\n",
        "!pip install spacy"
      ],
      "execution_count": 1,
      "outputs": [
        {
          "output_type": "stream",
          "text": [
            "Requirement already satisfied: nltk in /usr/local/lib/python3.6/dist-packages (3.2.5)\n",
            "Requirement already satisfied: six in /usr/local/lib/python3.6/dist-packages (from nltk) (1.15.0)\n",
            "Requirement already satisfied: flair in /usr/local/lib/python3.6/dist-packages (0.6)\n",
            "Requirement already satisfied: deprecated>=1.2.4 in /usr/local/lib/python3.6/dist-packages (from flair) (1.2.10)\n",
            "Requirement already satisfied: matplotlib>=2.2.3 in /usr/local/lib/python3.6/dist-packages (from flair) (3.2.2)\n",
            "Requirement already satisfied: transformers>=3.0.0 in /usr/local/lib/python3.6/dist-packages (from flair) (3.0.2)\n",
            "Requirement already satisfied: scikit-learn>=0.21.3 in /usr/local/lib/python3.6/dist-packages (from flair) (0.22.2.post1)\n",
            "Requirement already satisfied: torch>=1.1.0 in /usr/local/lib/python3.6/dist-packages (from flair) (1.6.0+cu101)\n",
            "Requirement already satisfied: regex in /usr/local/lib/python3.6/dist-packages (from flair) (2019.12.20)\n",
            "Requirement already satisfied: langdetect in /usr/local/lib/python3.6/dist-packages (from flair) (1.0.8)\n",
            "Requirement already satisfied: sqlitedict>=1.6.0 in /usr/local/lib/python3.6/dist-packages (from flair) (1.6.0)\n",
            "Requirement already satisfied: python-dateutil>=2.6.1 in /usr/local/lib/python3.6/dist-packages (from flair) (2.8.1)\n",
            "Requirement already satisfied: pytest>=5.3.2 in /usr/local/lib/python3.6/dist-packages (from flair) (6.0.1)\n",
            "Requirement already satisfied: tabulate in /usr/local/lib/python3.6/dist-packages (from flair) (0.8.7)\n",
            "Requirement already satisfied: sentencepiece!=0.1.92 in /usr/local/lib/python3.6/dist-packages (from flair) (0.1.91)\n",
            "Requirement already satisfied: tqdm>=4.26.0 in /usr/local/lib/python3.6/dist-packages (from flair) (4.41.1)\n",
            "Requirement already satisfied: gensim>=3.4.0 in /usr/local/lib/python3.6/dist-packages (from flair) (3.6.0)\n",
            "Requirement already satisfied: segtok>=1.5.7 in /usr/local/lib/python3.6/dist-packages (from flair) (1.5.10)\n",
            "Requirement already satisfied: mpld3==0.3 in /usr/local/lib/python3.6/dist-packages (from flair) (0.3)\n",
            "Requirement already satisfied: lxml in /usr/local/lib/python3.6/dist-packages (from flair) (4.2.6)\n",
            "Requirement already satisfied: hyperopt>=0.1.1 in /usr/local/lib/python3.6/dist-packages (from flair) (0.1.2)\n",
            "Requirement already satisfied: ftfy in /usr/local/lib/python3.6/dist-packages (from flair) (5.8)\n",
            "Requirement already satisfied: bpemb>=0.3.2 in /usr/local/lib/python3.6/dist-packages (from flair) (0.3.2)\n",
            "Requirement already satisfied: konoha[janome]<5.0.0,>=4.0.0 in /usr/local/lib/python3.6/dist-packages (from flair) (4.6.1)\n",
            "Requirement already satisfied: wrapt<2,>=1.10 in /usr/local/lib/python3.6/dist-packages (from deprecated>=1.2.4->flair) (1.12.1)\n",
            "Requirement already satisfied: cycler>=0.10 in /usr/local/lib/python3.6/dist-packages (from matplotlib>=2.2.3->flair) (0.10.0)\n",
            "Requirement already satisfied: kiwisolver>=1.0.1 in /usr/local/lib/python3.6/dist-packages (from matplotlib>=2.2.3->flair) (1.2.0)\n",
            "Requirement already satisfied: pyparsing!=2.0.4,!=2.1.2,!=2.1.6,>=2.0.1 in /usr/local/lib/python3.6/dist-packages (from matplotlib>=2.2.3->flair) (2.4.7)\n",
            "Requirement already satisfied: numpy>=1.11 in /usr/local/lib/python3.6/dist-packages (from matplotlib>=2.2.3->flair) (1.18.5)\n",
            "Requirement already satisfied: requests in /usr/local/lib/python3.6/dist-packages (from transformers>=3.0.0->flair) (2.23.0)\n",
            "Requirement already satisfied: packaging in /usr/local/lib/python3.6/dist-packages (from transformers>=3.0.0->flair) (20.4)\n",
            "Requirement already satisfied: filelock in /usr/local/lib/python3.6/dist-packages (from transformers>=3.0.0->flair) (3.0.12)\n",
            "Requirement already satisfied: sacremoses in /usr/local/lib/python3.6/dist-packages (from transformers>=3.0.0->flair) (0.0.43)\n",
            "Requirement already satisfied: tokenizers==0.8.1.rc1 in /usr/local/lib/python3.6/dist-packages (from transformers>=3.0.0->flair) (0.8.1rc1)\n",
            "Requirement already satisfied: dataclasses; python_version < \"3.7\" in /usr/local/lib/python3.6/dist-packages (from transformers>=3.0.0->flair) (0.7)\n",
            "Requirement already satisfied: scipy>=0.17.0 in /usr/local/lib/python3.6/dist-packages (from scikit-learn>=0.21.3->flair) (1.4.1)\n",
            "Requirement already satisfied: joblib>=0.11 in /usr/local/lib/python3.6/dist-packages (from scikit-learn>=0.21.3->flair) (0.16.0)\n",
            "Requirement already satisfied: future in /usr/local/lib/python3.6/dist-packages (from torch>=1.1.0->flair) (0.16.0)\n",
            "Requirement already satisfied: six in /usr/local/lib/python3.6/dist-packages (from langdetect->flair) (1.15.0)\n",
            "Requirement already satisfied: iniconfig in /usr/local/lib/python3.6/dist-packages (from pytest>=5.3.2->flair) (1.0.1)\n",
            "Requirement already satisfied: py>=1.8.2 in /usr/local/lib/python3.6/dist-packages (from pytest>=5.3.2->flair) (1.9.0)\n",
            "Requirement already satisfied: toml in /usr/local/lib/python3.6/dist-packages (from pytest>=5.3.2->flair) (0.10.1)\n",
            "Requirement already satisfied: attrs>=17.4.0 in /usr/local/lib/python3.6/dist-packages (from pytest>=5.3.2->flair) (20.1.0)\n",
            "Requirement already satisfied: pluggy<1.0,>=0.12 in /usr/local/lib/python3.6/dist-packages (from pytest>=5.3.2->flair) (0.13.1)\n",
            "Requirement already satisfied: more-itertools>=4.0.0 in /usr/local/lib/python3.6/dist-packages (from pytest>=5.3.2->flair) (8.4.0)\n",
            "Requirement already satisfied: importlib-metadata>=0.12; python_version < \"3.8\" in /usr/local/lib/python3.6/dist-packages (from pytest>=5.3.2->flair) (1.7.0)\n",
            "Requirement already satisfied: smart-open>=1.2.1 in /usr/local/lib/python3.6/dist-packages (from gensim>=3.4.0->flair) (2.1.0)\n",
            "Requirement already satisfied: networkx in /usr/local/lib/python3.6/dist-packages (from hyperopt>=0.1.1->flair) (2.5)\n",
            "Requirement already satisfied: pymongo in /usr/local/lib/python3.6/dist-packages (from hyperopt>=0.1.1->flair) (3.11.0)\n",
            "Requirement already satisfied: wcwidth in /usr/local/lib/python3.6/dist-packages (from ftfy->flair) (0.2.5)\n",
            "Requirement already satisfied: overrides==3.0.0 in /usr/local/lib/python3.6/dist-packages (from konoha[janome]<5.0.0,>=4.0.0->flair) (3.0.0)\n",
            "Requirement already satisfied: janome<0.4.0,>=0.3.10; extra == \"janome\" or extra == \"all\" or extra == \"all_with_integrations\" in /usr/local/lib/python3.6/dist-packages (from konoha[janome]<5.0.0,>=4.0.0->flair) (0.3.10)\n",
            "Requirement already satisfied: idna<3,>=2.5 in /usr/local/lib/python3.6/dist-packages (from requests->transformers>=3.0.0->flair) (2.10)\n",
            "Requirement already satisfied: certifi>=2017.4.17 in /usr/local/lib/python3.6/dist-packages (from requests->transformers>=3.0.0->flair) (2020.6.20)\n",
            "Requirement already satisfied: chardet<4,>=3.0.2 in /usr/local/lib/python3.6/dist-packages (from requests->transformers>=3.0.0->flair) (3.0.4)\n",
            "Requirement already satisfied: urllib3!=1.25.0,!=1.25.1,<1.26,>=1.21.1 in /usr/local/lib/python3.6/dist-packages (from requests->transformers>=3.0.0->flair) (1.24.3)\n",
            "Requirement already satisfied: click in /usr/local/lib/python3.6/dist-packages (from sacremoses->transformers>=3.0.0->flair) (7.1.2)\n",
            "Requirement already satisfied: zipp>=0.5 in /usr/local/lib/python3.6/dist-packages (from importlib-metadata>=0.12; python_version < \"3.8\"->pytest>=5.3.2->flair) (3.1.0)\n",
            "Requirement already satisfied: boto3 in /usr/local/lib/python3.6/dist-packages (from smart-open>=1.2.1->gensim>=3.4.0->flair) (1.14.48)\n",
            "Requirement already satisfied: boto in /usr/local/lib/python3.6/dist-packages (from smart-open>=1.2.1->gensim>=3.4.0->flair) (2.49.0)\n",
            "Requirement already satisfied: decorator>=4.3.0 in /usr/local/lib/python3.6/dist-packages (from networkx->hyperopt>=0.1.1->flair) (4.4.2)\n",
            "Requirement already satisfied: jmespath<1.0.0,>=0.7.1 in /usr/local/lib/python3.6/dist-packages (from boto3->smart-open>=1.2.1->gensim>=3.4.0->flair) (0.10.0)\n",
            "Requirement already satisfied: s3transfer<0.4.0,>=0.3.0 in /usr/local/lib/python3.6/dist-packages (from boto3->smart-open>=1.2.1->gensim>=3.4.0->flair) (0.3.3)\n",
            "Requirement already satisfied: botocore<1.18.0,>=1.17.48 in /usr/local/lib/python3.6/dist-packages (from boto3->smart-open>=1.2.1->gensim>=3.4.0->flair) (1.17.48)\n",
            "Requirement already satisfied: docutils<0.16,>=0.10 in /usr/local/lib/python3.6/dist-packages (from botocore<1.18.0,>=1.17.48->boto3->smart-open>=1.2.1->gensim>=3.4.0->flair) (0.15.2)\n",
            "Requirement already satisfied: textblob in /usr/local/lib/python3.6/dist-packages (0.15.3)\n",
            "Requirement already satisfied: nltk>=3.1 in /usr/local/lib/python3.6/dist-packages (from textblob) (3.2.5)\n",
            "Requirement already satisfied: six in /usr/local/lib/python3.6/dist-packages (from nltk>=3.1->textblob) (1.15.0)\n",
            "Requirement already satisfied: stanza in /usr/local/lib/python3.6/dist-packages (1.1.1)\n",
            "Requirement already satisfied: numpy in /usr/local/lib/python3.6/dist-packages (from stanza) (1.18.5)\n",
            "Requirement already satisfied: torch>=1.3.0 in /usr/local/lib/python3.6/dist-packages (from stanza) (1.6.0+cu101)\n",
            "Requirement already satisfied: protobuf in /usr/local/lib/python3.6/dist-packages (from stanza) (3.12.4)\n",
            "Requirement already satisfied: tqdm in /usr/local/lib/python3.6/dist-packages (from stanza) (4.41.1)\n",
            "Requirement already satisfied: requests in /usr/local/lib/python3.6/dist-packages (from stanza) (2.23.0)\n",
            "Requirement already satisfied: future in /usr/local/lib/python3.6/dist-packages (from torch>=1.3.0->stanza) (0.16.0)\n",
            "Requirement already satisfied: setuptools in /usr/local/lib/python3.6/dist-packages (from protobuf->stanza) (49.6.0)\n",
            "Requirement already satisfied: six>=1.9 in /usr/local/lib/python3.6/dist-packages (from protobuf->stanza) (1.15.0)\n",
            "Requirement already satisfied: idna<3,>=2.5 in /usr/local/lib/python3.6/dist-packages (from requests->stanza) (2.10)\n",
            "Requirement already satisfied: urllib3!=1.25.0,!=1.25.1,<1.26,>=1.21.1 in /usr/local/lib/python3.6/dist-packages (from requests->stanza) (1.24.3)\n",
            "Requirement already satisfied: chardet<4,>=3.0.2 in /usr/local/lib/python3.6/dist-packages (from requests->stanza) (3.0.4)\n",
            "Requirement already satisfied: certifi>=2017.4.17 in /usr/local/lib/python3.6/dist-packages (from requests->stanza) (2020.6.20)\n",
            "Requirement already satisfied: spacy in /usr/local/lib/python3.6/dist-packages (2.2.4)\n",
            "Requirement already satisfied: cymem<2.1.0,>=2.0.2 in /usr/local/lib/python3.6/dist-packages (from spacy) (2.0.3)\n",
            "Requirement already satisfied: tqdm<5.0.0,>=4.38.0 in /usr/local/lib/python3.6/dist-packages (from spacy) (4.41.1)\n",
            "Requirement already satisfied: plac<1.2.0,>=0.9.6 in /usr/local/lib/python3.6/dist-packages (from spacy) (1.1.3)\n",
            "Requirement already satisfied: murmurhash<1.1.0,>=0.28.0 in /usr/local/lib/python3.6/dist-packages (from spacy) (1.0.2)\n",
            "Requirement already satisfied: requests<3.0.0,>=2.13.0 in /usr/local/lib/python3.6/dist-packages (from spacy) (2.23.0)\n",
            "Requirement already satisfied: thinc==7.4.0 in /usr/local/lib/python3.6/dist-packages (from spacy) (7.4.0)\n",
            "Requirement already satisfied: preshed<3.1.0,>=3.0.2 in /usr/local/lib/python3.6/dist-packages (from spacy) (3.0.2)\n",
            "Requirement already satisfied: wasabi<1.1.0,>=0.4.0 in /usr/local/lib/python3.6/dist-packages (from spacy) (0.7.1)\n",
            "Requirement already satisfied: catalogue<1.1.0,>=0.0.7 in /usr/local/lib/python3.6/dist-packages (from spacy) (1.0.0)\n",
            "Requirement already satisfied: numpy>=1.15.0 in /usr/local/lib/python3.6/dist-packages (from spacy) (1.18.5)\n",
            "Requirement already satisfied: srsly<1.1.0,>=1.0.2 in /usr/local/lib/python3.6/dist-packages (from spacy) (1.0.2)\n",
            "Requirement already satisfied: blis<0.5.0,>=0.4.0 in /usr/local/lib/python3.6/dist-packages (from spacy) (0.4.1)\n",
            "Requirement already satisfied: setuptools in /usr/local/lib/python3.6/dist-packages (from spacy) (49.6.0)\n",
            "Requirement already satisfied: chardet<4,>=3.0.2 in /usr/local/lib/python3.6/dist-packages (from requests<3.0.0,>=2.13.0->spacy) (3.0.4)\n",
            "Requirement already satisfied: idna<3,>=2.5 in /usr/local/lib/python3.6/dist-packages (from requests<3.0.0,>=2.13.0->spacy) (2.10)\n",
            "Requirement already satisfied: certifi>=2017.4.17 in /usr/local/lib/python3.6/dist-packages (from requests<3.0.0,>=2.13.0->spacy) (2020.6.20)\n",
            "Requirement already satisfied: urllib3!=1.25.0,!=1.25.1,<1.26,>=1.21.1 in /usr/local/lib/python3.6/dist-packages (from requests<3.0.0,>=2.13.0->spacy) (1.24.3)\n",
            "Requirement already satisfied: importlib-metadata>=0.20; python_version < \"3.8\" in /usr/local/lib/python3.6/dist-packages (from catalogue<1.1.0,>=0.0.7->spacy) (1.7.0)\n",
            "Requirement already satisfied: zipp>=0.5 in /usr/local/lib/python3.6/dist-packages (from importlib-metadata>=0.20; python_version < \"3.8\"->catalogue<1.1.0,>=0.0.7->spacy) (3.1.0)\n"
          ],
          "name": "stdout"
        }
      ]
    },
    {
      "cell_type": "markdown",
      "metadata": {
        "id": "PkUNmwjYfj8n",
        "colab_type": "text"
      },
      "source": [
        "---\n",
        "# **2. Imports**\n",
        "---"
      ]
    },
    {
      "cell_type": "markdown",
      "metadata": {
        "id": "2UcFnP3qfssO",
        "colab_type": "text"
      },
      "source": [
        "### i. core"
      ]
    },
    {
      "cell_type": "code",
      "metadata": {
        "id": "HTS6dvWgjTRK",
        "colab_type": "code",
        "colab": {}
      },
      "source": [
        "import numpy as np\n",
        "import pandas as pd\n",
        "import matplotlib.pyplot as plt"
      ],
      "execution_count": 2,
      "outputs": []
    },
    {
      "cell_type": "markdown",
      "metadata": {
        "id": "bAjiaWM-fr7F",
        "colab_type": "text"
      },
      "source": [
        "### ii. NLTK Vader Sentiment Intensity Analyzer"
      ]
    },
    {
      "cell_type": "code",
      "metadata": {
        "id": "jK5w_s6Kge2W",
        "colab_type": "code",
        "colab": {
          "base_uri": "https://localhost:8080/",
          "height": 108
        },
        "outputId": "6681022a-0c61-4f95-a84e-76d1d69ef68b"
      },
      "source": [
        "import nltk\n",
        "from nltk.sentiment.vader import SentimentIntensityAnalyzer\n",
        "nltk.download('vader_lexicon')\n",
        "SIA = SentimentIntensityAnalyzer()"
      ],
      "execution_count": 3,
      "outputs": [
        {
          "output_type": "stream",
          "text": [
            "[nltk_data] Downloading package vader_lexicon to /root/nltk_data...\n",
            "[nltk_data]   Package vader_lexicon is already up-to-date!\n"
          ],
          "name": "stdout"
        },
        {
          "output_type": "stream",
          "text": [
            "/usr/local/lib/python3.6/dist-packages/nltk/twitter/__init__.py:20: UserWarning: The twython library has not been installed. Some functionality from the twitter package will not be available.\n",
            "  warnings.warn(\"The twython library has not been installed. \"\n"
          ],
          "name": "stderr"
        }
      ]
    },
    {
      "cell_type": "markdown",
      "metadata": {
        "id": "zftnZsPZf0iN",
        "colab_type": "text"
      },
      "source": [
        "### iii. Stanza"
      ]
    },
    {
      "cell_type": "code",
      "metadata": {
        "id": "plBOpEiwpmNp",
        "colab_type": "code",
        "colab": {
          "base_uri": "https://localhost:8080/",
          "height": 675
        },
        "outputId": "2d3edb53-5053-4d8f-ad51-bd4fab3b3fc5"
      },
      "source": [
        "import stanza\n",
        "stanza.download('en', package='ewt', processors='tokenize,sentiment', verbose=True)\n",
        "stanza.download('en', package='default', processors='tokenize,sentiment', verbose=True)\n",
        "stNLP = stanza.Pipeline(processors='tokenize,sentiment', lang='en', use_gpu=True)"
      ],
      "execution_count": 4,
      "outputs": [
        {
          "output_type": "stream",
          "text": [
            "Downloading https://raw.githubusercontent.com/stanfordnlp/stanza-resources/master/resources_1.1.0.json: 122kB [00:00, 13.2MB/s]                    \n",
            "2020-08-30 12:24:43 WARNING: Can not find sentiment: ewt from official model list. Ignoring it.\n",
            "2020-08-30 12:24:43 INFO: Downloading these customized packages for language: en (English)...\n",
            "=======================\n",
            "| Processor | Package |\n",
            "-----------------------\n",
            "| tokenize  | ewt     |\n",
            "=======================\n",
            "\n",
            "2020-08-30 12:24:43 INFO: File exists: /root/stanza_resources/en/tokenize/ewt.pt.\n",
            "2020-08-30 12:24:43 INFO: Finished downloading models and saved to /root/stanza_resources.\n",
            "Downloading https://raw.githubusercontent.com/stanfordnlp/stanza-resources/master/resources_1.1.0.json: 122kB [00:00, 12.6MB/s]                    \n",
            "2020-08-30 12:24:43 INFO: Downloading these customized packages for language: en (English)...\n",
            "=======================\n",
            "| Processor | Package |\n",
            "-----------------------\n",
            "| tokenize  | ewt     |\n",
            "| sentiment | sstplus |\n",
            "| pretrain  | ewt     |\n",
            "=======================\n",
            "\n",
            "2020-08-30 12:24:43 INFO: File exists: /root/stanza_resources/en/tokenize/ewt.pt.\n",
            "2020-08-30 12:24:43 INFO: File exists: /root/stanza_resources/en/sentiment/sstplus.pt.\n",
            "2020-08-30 12:24:43 INFO: File exists: /root/stanza_resources/en/pretrain/ewt.pt.\n",
            "2020-08-30 12:24:43 INFO: Finished downloading models and saved to /root/stanza_resources.\n",
            "2020-08-30 12:24:43 INFO: Loading these models for language: en (English):\n",
            "=======================\n",
            "| Processor | Package |\n",
            "-----------------------\n",
            "| tokenize  | ewt     |\n",
            "| sentiment | sstplus |\n",
            "=======================\n",
            "\n",
            "2020-08-30 12:24:43 INFO: Use device: cpu\n",
            "2020-08-30 12:24:43 INFO: Loading: tokenize\n",
            "2020-08-30 12:24:43 INFO: Loading: sentiment\n",
            "2020-08-30 12:24:45 INFO: Done loading processors!\n"
          ],
          "name": "stderr"
        }
      ]
    },
    {
      "cell_type": "markdown",
      "metadata": {
        "id": "68fKZ5sHf8_v",
        "colab_type": "text"
      },
      "source": [
        "### iv. Spacy Text Categorizer"
      ]
    },
    {
      "cell_type": "code",
      "metadata": {
        "id": "bXKsPUNj5ovs",
        "colab_type": "code",
        "colab": {
          "base_uri": "https://localhost:8080/",
          "height": 1000
        },
        "outputId": "9d9bb21d-8e1f-4c75-8b5d-19fcee00ffe8"
      },
      "source": [
        "import random\n",
        "import spacy\n",
        "from spacy.util import minibatch\n",
        "from spacy.pipeline import TextCategorizer\n",
        "spacy.prefer_gpu()\n",
        "\n",
        "TRAIN_DATA = [\n",
        "    [\"My little kitty is so special\", {\"Cat\": True}],\n",
        "    [\"Dude, Totally, Yeah, Video Games\", {\"Cat\": False}],\n",
        "    [\"Should I pay $1,000 for the iPhone X?\", {\"Cat\": False}],\n",
        "    [\"The iPhone 8 reviews are here\", {\"Cat\": False}],\n",
        "    [\"Noa is a great cat name.\", {\"Cat\": True}],\n",
        "    [\"We got a new kitten!\", {\"Cat\": True}]\n",
        "]\n",
        "\n",
        "nlp = spacy.load(\"en_core_web_sm\")\n",
        "category = nlp.create_pipe(\"textcat\", config={\"exclusive_classes\": True})\n",
        "nlp.add_pipe(category)\n",
        "\n",
        "# add label to text classifier\n",
        "category.add_label(\"Cat\")\n",
        "category.add_label('False')\n",
        "\n",
        "optimizer = nlp.begin_training()\n",
        "losses = {}\n",
        "\n",
        "for i in range(100):\n",
        "    random.shuffle(TRAIN_DATA)\n",
        "\n",
        "    for batch in minibatch(TRAIN_DATA, size=8):\n",
        "        texts = [nlp(text) for text, entities in batch]\n",
        "        annotations = [{\"cats\": entities} for text, entities in batch]\n",
        "        nlp.update(texts, annotations, sgd=optimizer, losses=losses)\n",
        "    print(i, losses)"
      ],
      "execution_count": 5,
      "outputs": [
        {
          "output_type": "stream",
          "text": [
            "0 {'tagger': 0.4249240458011627, 'parser': 0.0, 'ner': 0.0, 'textcat': 0.0069444444961845875}\n",
            "1 {'tagger': 0.42840022849850357, 'parser': 0.0, 'ner': 0.0, 'textcat': 0.013881952036172152}\n",
            "2 {'tagger': 0.42847894649457885, 'parser': 0.0, 'ner': 0.0, 'textcat': 0.020739492494612932}\n",
            "3 {'tagger': 0.4284858039336541, 'parser': 0.0, 'ner': 0.0, 'textcat': 0.027411133982241154}\n",
            "4 {'tagger': 0.4284890776359589, 'parser': 0.0, 'ner': 0.0, 'textcat': 0.03380651259794831}\n",
            "5 {'tagger': 0.42849207026188196, 'parser': 0.0, 'ner': 0.0, 'textcat': 0.039874943904578686}\n",
            "6 {'tagger': 0.42849476723313273, 'parser': 0.0, 'ner': 0.0, 'textcat': 0.04557145340368152}\n",
            "7 {'tagger': 0.42849673362820795, 'parser': 0.0, 'ner': 0.0, 'textcat': 0.050863474141806364}\n",
            "8 {'tagger': 0.4284979288303248, 'parser': 0.0, 'ner': 0.0, 'textcat': 0.055712020955979824}\n",
            "9 {'tagger': 0.428498589640526, 'parser': 0.0, 'ner': 0.0, 'textcat': 0.060109580401331186}\n",
            "10 {'tagger': 0.42849894828023594, 'parser': 0.0, 'ner': 0.0, 'textcat': 0.06405636202543974}\n",
            "11 {'tagger': 0.42849914554950885, 'parser': 0.0, 'ner': 0.0, 'textcat': 0.06754374667070806}\n",
            "12 {'tagger': 0.4284992583865588, 'parser': 0.0, 'ner': 0.0, 'textcat': 0.07059008069336414}\n",
            "13 {'tagger': 0.4284993265423722, 'parser': 0.0, 'ner': 0.0, 'textcat': 0.07321551092900336}\n",
            "14 {'tagger': 0.4284993705379705, 'parser': 0.0, 'ner': 0.0, 'textcat': 0.07544323056936264}\n",
            "15 {'tagger': 0.4284994006499083, 'parser': 0.0, 'ner': 0.0, 'textcat': 0.07730043644551188}\n",
            "16 {'tagger': 0.4284994221951912, 'parser': 0.0, 'ner': 0.0, 'textcat': 0.07882531883660704}\n",
            "17 {'tagger': 0.42849943824952597, 'parser': 0.0, 'ner': 0.0, 'textcat': 0.08005634602159262}\n",
            "18 {'tagger': 0.4284994505948845, 'parser': 0.0, 'ner': 0.0, 'textcat': 0.08103134372504428}\n",
            "19 {'tagger': 0.4284994603422154, 'parser': 0.0, 'ner': 0.0, 'textcat': 0.08179271157132462}\n",
            "20 {'tagger': 0.42849946818257223, 'parser': 0.0, 'ner': 0.0, 'textcat': 0.08237535069929436}\n",
            "21 {'tagger': 0.4284994746161348, 'parser': 0.0, 'ner': 0.0, 'textcat': 0.08281269899453036}\n",
            "22 {'tagger': 0.4284994799680013, 'parser': 0.0, 'ner': 0.0, 'textcat': 0.08313450307468884}\n",
            "23 {'tagger': 0.4284994844622374, 'parser': 0.0, 'ner': 0.0, 'textcat': 0.0833667993574636}\n",
            "24 {'tagger': 0.428499488273403, 'parser': 0.0, 'ner': 0.0, 'textcat': 0.08353126632573549}\n",
            "25 {'tagger': 0.4284994915336324, 'parser': 0.0, 'ner': 0.0, 'textcat': 0.08364576888561714}\n",
            "26 {'tagger': 0.42849949435429346, 'parser': 0.0, 'ner': 0.0, 'textcat': 0.08372423606488155}\n",
            "27 {'tagger': 0.42849949679716914, 'parser': 0.0, 'ner': 0.0, 'textcat': 0.08377721779470448}\n",
            "28 {'tagger': 0.42849949892926764, 'parser': 0.0, 'ner': 0.0, 'textcat': 0.08381263897172175}\n",
            "29 {'tagger': 0.428499500812181, 'parser': 0.0, 'ner': 0.0, 'textcat': 0.08383608393160102}\n",
            "30 {'tagger': 0.4284995024700985, 'parser': 0.0, 'ner': 0.0, 'textcat': 0.08385143234045245}\n",
            "31 {'tagger': 0.42849950395084313, 'parser': 0.0, 'ner': 0.0, 'textcat': 0.08386138265905174}\n",
            "32 {'tagger': 0.4284995052748303, 'parser': 0.0, 'ner': 0.0, 'textcat': 0.08386779164811742}\n",
            "33 {'tagger': 0.4284995064625433, 'parser': 0.0, 'ner': 0.0, 'textcat': 0.08387190262237709}\n",
            "34 {'tagger': 0.4284995075342619, 'parser': 0.0, 'ner': 0.0, 'textcat': 0.08387453259888389}\n",
            "35 {'tagger': 0.4284995085087948, 'parser': 0.0, 'ner': 0.0, 'textcat': 0.08387621051974747}\n",
            "36 {'tagger': 0.42849950939847165, 'parser': 0.0, 'ner': 0.0, 'textcat': 0.08387728411173612}\n",
            "37 {'tagger': 0.4284995102081904, 'parser': 0.0, 'ner': 0.0, 'textcat': 0.08387797645951878}\n",
            "38 {'tagger': 0.42849951095728706, 'parser': 0.0, 'ner': 0.0, 'textcat': 0.08387842780487631}\n",
            "39 {'tagger': 0.42849951164883765, 'parser': 0.0, 'ner': 0.0, 'textcat': 0.08387872639036686}\n",
            "40 {'tagger': 0.4284995122863168, 'parser': 0.0, 'ner': 0.0, 'textcat': 0.0838789271935525}\n",
            "41 {'tagger': 0.4284995128841992, 'parser': 0.0, 'ner': 0.0, 'textcat': 0.08387906472329121}\n",
            "42 {'tagger': 0.4284995134428525, 'parser': 0.0, 'ner': 0.0, 'textcat': 0.08387916065928636}\n",
            "43 {'tagger': 0.4284995139643411, 'parser': 0.0, 'ner': 0.0, 'textcat': 0.08387922883292731}\n",
            "44 {'tagger': 0.42849951445342993, 'parser': 0.0, 'ner': 0.0, 'textcat': 0.08387927818003149}\n",
            "45 {'tagger': 0.4284995149130474, 'parser': 0.0, 'ner': 0.0, 'textcat': 0.08387931454347353}\n",
            "46 {'tagger': 0.428499515347884, 'parser': 0.0, 'ner': 0.0, 'textcat': 0.0838793418210102}\n",
            "47 {'tagger': 0.4284995157592737, 'parser': 0.0, 'ner': 0.0, 'textcat': 0.08387936265033424}\n",
            "48 {'tagger': 0.4284995161505151, 'parser': 0.0, 'ner': 0.0, 'textcat': 0.08387937883232333}\n",
            "49 {'tagger': 0.4284995165219595, 'parser': 0.0, 'ner': 0.0, 'textcat': 0.0838793916098739}\n",
            "50 {'tagger': 0.42849951687441123, 'parser': 0.0, 'ner': 0.0, 'textcat': 0.08387940185756015}\n",
            "51 {'tagger': 0.4284995172129638, 'parser': 0.0, 'ner': 0.0, 'textcat': 0.0838794101952205}\n",
            "52 {'tagger': 0.4284995175373866, 'parser': 0.0, 'ner': 0.0, 'textcat': 0.08387941707243574}\n",
            "53 {'tagger': 0.42849951784473733, 'parser': 0.0, 'ner': 0.0, 'textcat': 0.08387942281896743}\n",
            "54 {'tagger': 0.42849951814137754, 'parser': 0.0, 'ner': 0.0, 'textcat': 0.08387942767933598}\n",
            "55 {'tagger': 0.42849951842352485, 'parser': 0.0, 'ner': 0.0, 'textcat': 0.08387943183652569}\n",
            "56 {'tagger': 0.42849951869807673, 'parser': 0.0, 'ner': 0.0, 'textcat': 0.0838794354315684}\n",
            "57 {'tagger': 0.428499518962942, 'parser': 0.0, 'ner': 0.0, 'textcat': 0.0838794385721513}\n",
            "58 {'tagger': 0.42849951921724966, 'parser': 0.0, 'ner': 0.0, 'textcat': 0.08387944134114989}\n",
            "59 {'tagger': 0.42849951946293074, 'parser': 0.0, 'ner': 0.0, 'textcat': 0.08387944380326506}\n",
            "60 {'tagger': 0.4284995196987401, 'parser': 0.0, 'ner': 0.0, 'textcat': 0.08387944601054698}\n",
            "61 {'tagger': 0.42849951992843016, 'parser': 0.0, 'ner': 0.0, 'textcat': 0.08387944800342106}\n",
            "62 {'tagger': 0.42849952015161474, 'parser': 0.0, 'ner': 0.0, 'textcat': 0.08387944981555773}\n",
            "63 {'tagger': 0.428499520366486, 'parser': 0.0, 'ner': 0.0, 'textcat': 0.08387945147372833}\n",
            "64 {'tagger': 0.4284995205756985, 'parser': 0.0, 'ner': 0.0, 'textcat': 0.08387945300010058}\n",
            "65 {'tagger': 0.428499520780673, 'parser': 0.0, 'ner': 0.0, 'textcat': 0.08387945441288369}\n",
            "66 {'tagger': 0.42849952097814586, 'parser': 0.0, 'ner': 0.0, 'textcat': 0.08387945572718669}\n",
            "67 {'tagger': 0.4284995211688208, 'parser': 0.0, 'ner': 0.0, 'textcat': 0.08387945695579058}\n",
            "68 {'tagger': 0.4284995213557238, 'parser': 0.0, 'ner': 0.0, 'textcat': 0.08387945810898911}\n",
            "69 {'tagger': 0.4284995215384056, 'parser': 0.0, 'ner': 0.0, 'textcat': 0.08387945919604956}\n",
            "70 {'tagger': 0.42849952171598304, 'parser': 0.0, 'ner': 0.0, 'textcat': 0.08387946022466075}\n",
            "71 {'tagger': 0.42849952188724005, 'parser': 0.0, 'ner': 0.0, 'textcat': 0.08387946120102074}\n",
            "72 {'tagger': 0.4284995220563562, 'parser': 0.0, 'ner': 0.0, 'textcat': 0.08387946213057118}\n",
            "73 {'tagger': 0.4284995222203283, 'parser': 0.0, 'ner': 0.0, 'textcat': 0.08387946301848276}\n",
            "74 {'tagger': 0.42849952238044114, 'parser': 0.0, 'ner': 0.0, 'textcat': 0.0838794638683445}\n",
            "75 {'tagger': 0.42849952253632634, 'parser': 0.0, 'ner': 0.0, 'textcat': 0.08387946468402341}\n",
            "76 {'tagger': 0.4284995226883932, 'parser': 0.0, 'ner': 0.0, 'textcat': 0.083879465468364}\n",
            "77 {'tagger': 0.428499522837388, 'parser': 0.0, 'ner': 0.0, 'textcat': 0.08387946622424552}\n",
            "78 {'tagger': 0.4284995229826608, 'parser': 0.0, 'ner': 0.0, 'textcat': 0.08387946695413367}\n",
            "79 {'tagger': 0.42849952312607453, 'parser': 0.0, 'ner': 0.0, 'textcat': 0.08387946765982746}\n",
            "80 {'tagger': 0.428499523267898, 'parser': 0.0, 'ner': 0.0, 'textcat': 0.08387946834326654}\n",
            "81 {'tagger': 0.4284995234058814, 'parser': 0.0, 'ner': 0.0, 'textcat': 0.0838794690062275}\n",
            "82 {'tagger': 0.4284995235401604, 'parser': 0.0, 'ner': 0.0, 'textcat': 0.08387946965033294}\n",
            "83 {'tagger': 0.4284995236694191, 'parser': 0.0, 'ner': 0.0, 'textcat': 0.08387947027634846}\n",
            "84 {'tagger': 0.42849952379695877, 'parser': 0.0, 'ner': 0.0, 'textcat': 0.08387947088583536}\n",
            "85 {'tagger': 0.4284995239225973, 'parser': 0.0, 'ner': 0.0, 'textcat': 0.08387947147966973}\n",
            "86 {'tagger': 0.4284995240459229, 'parser': 0.0, 'ner': 0.0, 'textcat': 0.08387947205895907}\n",
            "87 {'tagger': 0.428499524167276, 'parser': 0.0, 'ner': 0.0, 'textcat': 0.08387947262458045}\n",
            "88 {'tagger': 0.4284995242862707, 'parser': 0.0, 'ner': 0.0, 'textcat': 0.08387947317706401}\n",
            "89 {'tagger': 0.4284995244028036, 'parser': 0.0, 'ner': 0.0, 'textcat': 0.0838794737172962}\n",
            "90 {'tagger': 0.4284995245174667, 'parser': 0.0, 'ner': 0.0, 'textcat': 0.08387947424571546}\n",
            "91 {'tagger': 0.42849952463039603, 'parser': 0.0, 'ner': 0.0, 'textcat': 0.08387947476298707}\n",
            "92 {'tagger': 0.4284995247415849, 'parser': 0.0, 'ner': 0.0, 'textcat': 0.08387947526960782}\n",
            "93 {'tagger': 0.4284995248509682, 'parser': 0.0, 'ner': 0.0, 'textcat': 0.083879475766175}\n",
            "94 {'tagger': 0.42849952495686017, 'parser': 0.0, 'ner': 0.0, 'textcat': 0.08387947625300429}\n",
            "95 {'tagger': 0.4284995250588246, 'parser': 0.0, 'ner': 0.0, 'textcat': 0.08387947673038082}\n",
            "96 {'tagger': 0.4284995251597935, 'parser': 0.0, 'ner': 0.0, 'textcat': 0.08387947719895228}\n",
            "97 {'tagger': 0.4284995252590309, 'parser': 0.0, 'ner': 0.0, 'textcat': 0.08387947765872036}\n",
            "98 {'tagger': 0.4284995253564963, 'parser': 0.0, 'ner': 0.0, 'textcat': 0.0838794781102864}\n",
            "99 {'tagger': 0.42849952545236225, 'parser': 0.0, 'ner': 0.0, 'textcat': 0.08387947855374034}\n"
          ],
          "name": "stdout"
        }
      ]
    },
    {
      "cell_type": "code",
      "metadata": {
        "id": "FD_B7ebv96TN",
        "colab_type": "code",
        "colab": {
          "base_uri": "https://localhost:8080/",
          "height": 35
        },
        "outputId": "d0b28cfb-2369-4a39-f453-95f47e101ca1"
      },
      "source": [
        "doc = nlp(u'This is my cat called kittens the kitty')\n",
        "print(doc.cats)"
      ],
      "execution_count": 6,
      "outputs": [
        {
          "output_type": "stream",
          "text": [
            "{'Cat': 0.9180145859718323, 'False': 0.08198540657758713}\n"
          ],
          "name": "stdout"
        }
      ]
    },
    {
      "cell_type": "code",
      "metadata": {
        "id": "mzdvGfbG-Ydh",
        "colab_type": "code",
        "colab": {}
      },
      "source": [
        "TRAIN_DATA = [\n",
        "    (\"beef\", {\"cats\": {\"POSITIVE\": 1.0, \"NEGATIVE\": 0.0}}),\n",
        "    (\"apple\", {\"cats\": {\"POSITIVE\": 0, \"NEGATIVE\": 1}})\n",
        "]"
      ],
      "execution_count": 7,
      "outputs": []
    },
    {
      "cell_type": "code",
      "metadata": {
        "id": "9nI8VZO49i9V",
        "colab_type": "code",
        "colab": {
          "base_uri": "https://localhost:8080/",
          "height": 35
        },
        "outputId": "2500a0a5-d6ca-412f-c474-eb684198583d"
      },
      "source": [
        "doc = nlp(u'I dont like iphones')\n",
        "print(doc.cats)"
      ],
      "execution_count": 8,
      "outputs": [
        {
          "output_type": "stream",
          "text": [
            "{'Cat': 0.6111749410629272, 'False': 0.38882502913475037}\n"
          ],
          "name": "stdout"
        }
      ]
    },
    {
      "cell_type": "markdown",
      "metadata": {
        "id": "wEBX9L0XgBv9",
        "colab_type": "text"
      },
      "source": [
        "### v. TextBlob"
      ]
    },
    {
      "cell_type": "code",
      "metadata": {
        "id": "ZIeEIxpagqkJ",
        "colab_type": "code",
        "colab": {}
      },
      "source": [
        "from textblob import TextBlob"
      ],
      "execution_count": 9,
      "outputs": []
    },
    {
      "cell_type": "markdown",
      "metadata": {
        "id": "Bi8mvbAAgFhg",
        "colab_type": "text"
      },
      "source": [
        "### vi. Flair"
      ]
    },
    {
      "cell_type": "code",
      "metadata": {
        "id": "G3bdliRrg2kw",
        "colab_type": "code",
        "colab": {
          "base_uri": "https://localhost:8080/",
          "height": 35
        },
        "outputId": "723b8868-9223-4ae4-987a-57a50d4c8759"
      },
      "source": [
        "import flair\n",
        "flair_sent = flair.models.TextClassifier.load('en-sentiment')"
      ],
      "execution_count": 10,
      "outputs": [
        {
          "output_type": "stream",
          "text": [
            "2020-08-30 12:25:05,357 loading file /root/.flair/models/sentiment-en-mix-distillbert.pt\n"
          ],
          "name": "stdout"
        }
      ]
    },
    {
      "cell_type": "markdown",
      "metadata": {
        "id": "IvieUPUdgIs1",
        "colab_type": "text"
      },
      "source": [
        "---\n",
        "# **3. Defining functions**\n",
        "---"
      ]
    },
    {
      "cell_type": "code",
      "metadata": {
        "id": "K-nxqDRugBpy",
        "colab_type": "code",
        "colab": {}
      },
      "source": [
        "def siaVader_compound(text):\n",
        "    scores = SIA.polarity_scores(text)\n",
        "    \n",
        "    comp_score = scores['compound']\n",
        "    if comp_score >= 0.05:\n",
        "        str_comp = 'pos'\n",
        "    elif comp_score <= -0.05:\n",
        "        str_comp = 'neg'\n",
        "    else: # (compound score > -0.05) and (compound score < 0.05)\n",
        "        str_comp = 'neu'\n",
        "    return str_comp\n",
        "\n",
        "def siaVader_maxScore(text):\n",
        "    scores = SIA.polarity_scores(text)\n",
        "    \n",
        "    del scores['compound']\n",
        "    index = np.argmax(list(scores.values()))\n",
        "    vader_MaxScore = list(scores.values())[index]\n",
        "    vader_label = list(scores)[index]\n",
        "    \n",
        "    return vader_label\n",
        "\n",
        "###\n",
        "def siaVader_byWord(text):\n",
        "    c = 0\n",
        "    for n, y in enumerate(text):\n",
        "        x = SIA.polarity_scores(y)\n",
        "        if x['compound'] != 0.0:\n",
        "            c += 1\n",
        "            # print('{}. {} {}'.format(c, x, y))\n",
        "            return 'pos' if x > 0.05 else 'neg'"
      ],
      "execution_count": 11,
      "outputs": []
    },
    {
      "cell_type": "code",
      "metadata": {
        "id": "Vfl3Mns-gtfK",
        "colab_type": "code",
        "colab": {}
      },
      "source": [
        "def text_blob_subjective(text):\n",
        "    return TextBlob(text).sentiment"
      ],
      "execution_count": 12,
      "outputs": []
    },
    {
      "cell_type": "code",
      "metadata": {
        "id": "gOyTlhydgI4k",
        "colab_type": "code",
        "colab": {}
      },
      "source": [
        "def flair_lstm(text):\n",
        "    x = flair.data.Sentence(text)\n",
        "    flair_sent.predict(sentences=x)\n",
        "    return x.labels"
      ],
      "execution_count": 13,
      "outputs": []
    },
    {
      "cell_type": "code",
      "metadata": {
        "id": "-fH81bgqHLEh",
        "colab_type": "code",
        "colab": {}
      },
      "source": [
        "def stanza_funct(text):\n",
        "    data = stNLP(text)\n",
        "    for sentence in data.sentences:\n",
        "        return sentence.sentiment"
      ],
      "execution_count": 14,
      "outputs": []
    },
    {
      "cell_type": "markdown",
      "metadata": {
        "id": "CShr2gm0iDS3",
        "colab_type": "text"
      },
      "source": [
        "---\n",
        "\n",
        "# **4. Comparing Sentiment Analyzers**\n",
        "\n",
        "---"
      ]
    },
    {
      "cell_type": "markdown",
      "metadata": {
        "id": "3swCgi6KijqN",
        "colab_type": "text"
      },
      "source": [
        "### **data (text)**"
      ]
    },
    {
      "cell_type": "code",
      "metadata": {
        "id": "2pT9-wk3T3lH",
        "colab_type": "code",
        "colab": {}
      },
      "source": [
        "data = [\n",
        "        'not confident',\n",
        "        'unsure',\n",
        "        'does not handles pressure',\n",
        "        'disordered',\n",
        "        'talkative',\n",
        "        'uninsterested',\n",
        "        'sad',\n",
        "        'unfriendly',\n",
        "        \n",
        "        'confident',\n",
        "        'certany',\n",
        "        'handles pressure',\n",
        "        'organized',\n",
        "        'concise',\n",
        "        'interested',\n",
        "        'happy',\n",
        "        'friendly'\n",
        "        ]     "
      ],
      "execution_count": 15,
      "outputs": []
    },
    {
      "cell_type": "code",
      "metadata": {
        "id": "RKqOe6UOhb-Y",
        "colab_type": "code",
        "colab": {}
      },
      "source": [
        "#data = \"I'm confident of myself but sometimes I'm unsure and unfriendly however I'm concise when I'm interested in being someone organizated who handles pressure\"\n",
        "#data = data.split()"
      ],
      "execution_count": 16,
      "outputs": []
    },
    {
      "cell_type": "markdown",
      "metadata": {
        "id": "0s4rbwMraWhc",
        "colab_type": "text"
      },
      "source": [
        "### **NLTK Vader**\n",
        "* VADER, has different ratings depending on the form of the word and therefore the input should not be stemmed or lemmatized.\n",
        "\n",
        "* disadvantage of this approach is that Out of Vocab (OOV) words that the sentiment analysis tool has not seen before will not be classified as positive/negative (e.g. typos)."
      ]
    },
    {
      "cell_type": "code",
      "metadata": {
        "id": "PM_KBvUoiUPQ",
        "colab_type": "code",
        "colab": {
          "base_uri": "https://localhost:8080/",
          "height": 35
        },
        "outputId": "4374e7b9-8f31-4060-cf92-347b3c1e798b"
      },
      "source": [
        "SIA.polarity_scores(' '.join(data))"
      ],
      "execution_count": 22,
      "outputs": [
        {
          "output_type": "execute_result",
          "data": {
            "text/plain": [
              "{'compound': 0.504, 'neg': 0.294, 'neu': 0.298, 'pos': 0.409}"
            ]
          },
          "metadata": {
            "tags": []
          },
          "execution_count": 22
        }
      ]
    },
    {
      "cell_type": "code",
      "metadata": {
        "id": "RX554uoq2ywa",
        "colab_type": "code",
        "colab": {
          "base_uri": "https://localhost:8080/",
          "height": 72
        },
        "outputId": "d3e56533-0c36-41af-e6be-14f97451c8a8"
      },
      "source": [
        "print(data)\n",
        "print([(lambda x: SIA.polarity_scores(x)['compound'])(x) for x in data])"
      ],
      "execution_count": 23,
      "outputs": [
        {
          "output_type": "stream",
          "text": [
            "['not confident', 'unsure', 'does not handles pressure', 'disordered', 'talkative', 'uninsterested', 'sad', 'unfriendly', 'confident', 'certany', 'handles pressure', 'organized', 'concise', 'interested', 'happy', 'friendly']\n",
            "[-0.3875, -0.25, 0.2235, 0.0, 0.0, 0.0, -0.4767, -0.3612, 0.4939, 0.0, -0.296, 0.0, 0.0, 0.4019, 0.5719, 0.4939]\n"
          ],
          "name": "stdout"
        }
      ]
    },
    {
      "cell_type": "code",
      "metadata": {
        "id": "aXWDJN1uiZD1",
        "colab_type": "code",
        "colab": {
          "base_uri": "https://localhost:8080/",
          "height": 36
        },
        "outputId": "e71c0ab4-4bec-46bd-e6c7-757e9d9b4a4a"
      },
      "source": [
        "siaVader_compound(' '.join(data))"
      ],
      "execution_count": 25,
      "outputs": [
        {
          "output_type": "execute_result",
          "data": {
            "application/vnd.google.colaboratory.intrinsic+json": {
              "type": "string"
            },
            "text/plain": [
              "'pos'"
            ]
          },
          "metadata": {
            "tags": []
          },
          "execution_count": 25
        }
      ]
    },
    {
      "cell_type": "code",
      "metadata": {
        "id": "5N_AoPwl21Ge",
        "colab_type": "code",
        "colab": {
          "base_uri": "https://localhost:8080/",
          "height": 72
        },
        "outputId": "ff787410-2de4-4bd6-cf54-8e6491a959a8"
      },
      "source": [
        "print(data)\n",
        "print([(lambda x: siaVader_compound(x))(x) for x in data])"
      ],
      "execution_count": 26,
      "outputs": [
        {
          "output_type": "stream",
          "text": [
            "['not confident', 'unsure', 'does not handles pressure', 'disordered', 'talkative', 'uninsterested', 'sad', 'unfriendly', 'confident', 'certany', 'handles pressure', 'organized', 'concise', 'interested', 'happy', 'friendly']\n",
            "['neg', 'neg', 'pos', 'neu', 'neu', 'neu', 'neg', 'neg', 'pos', 'neu', 'neg', 'neu', 'neu', 'pos', 'pos', 'pos']\n"
          ],
          "name": "stdout"
        }
      ]
    },
    {
      "cell_type": "code",
      "metadata": {
        "id": "FE7Pctquifyg",
        "colab_type": "code",
        "colab": {
          "base_uri": "https://localhost:8080/",
          "height": 36
        },
        "outputId": "b2337e59-0d78-45c8-c8a0-56be169c453b"
      },
      "source": [
        "siaVader_maxScore(' '.join(data))"
      ],
      "execution_count": 28,
      "outputs": [
        {
          "output_type": "execute_result",
          "data": {
            "application/vnd.google.colaboratory.intrinsic+json": {
              "type": "string"
            },
            "text/plain": [
              "'pos'"
            ]
          },
          "metadata": {
            "tags": []
          },
          "execution_count": 28
        }
      ]
    },
    {
      "cell_type": "code",
      "metadata": {
        "id": "xG7sYB5A3BT4",
        "colab_type": "code",
        "colab": {
          "base_uri": "https://localhost:8080/",
          "height": 72
        },
        "outputId": "25baf98d-bb43-4a6e-cc5b-665f1d7a7716"
      },
      "source": [
        "print(data)\n",
        "print([(lambda x: siaVader_maxScore(x))(x) for x in data])"
      ],
      "execution_count": 29,
      "outputs": [
        {
          "output_type": "stream",
          "text": [
            "['not confident', 'unsure', 'does not handles pressure', 'disordered', 'talkative', 'uninsterested', 'sad', 'unfriendly', 'confident', 'certany', 'handles pressure', 'organized', 'concise', 'interested', 'happy', 'friendly']\n",
            "['neg', 'neg', 'neu', 'neu', 'neu', 'neu', 'neg', 'neg', 'pos', 'neu', 'neg', 'neu', 'neu', 'pos', 'pos', 'pos']\n"
          ],
          "name": "stdout"
        }
      ]
    },
    {
      "cell_type": "markdown",
      "metadata": {
        "id": "ytOKtne0ixoN",
        "colab_type": "text"
      },
      "source": [
        "## **TextBlob**\n",
        "* use a bag of words classifier, but the advantage is that it includes subjetivity analysis (factual/opinated)\n",
        "* it doesn't contain the heuristics that nltk has, it won't intensify or negate a sentence's sentiment\n",
        "\n",
        "* will return the subjectivity of the text"
      ]
    },
    {
      "cell_type": "code",
      "metadata": {
        "id": "yYHpCDQuiw6T",
        "colab_type": "code",
        "colab": {
          "base_uri": "https://localhost:8080/",
          "height": 35
        },
        "outputId": "9c36888b-79bf-4d9e-d7e4-d5d9766bd117"
      },
      "source": [
        "text_blob_subjective(' '.join(data))"
      ],
      "execution_count": 31,
      "outputs": [
        {
          "output_type": "execute_result",
          "data": {
            "text/plain": [
              "Sentiment(polarity=0.18214285714285713, subjectivity=0.7523809523809525)"
            ]
          },
          "metadata": {
            "tags": []
          },
          "execution_count": 31
        }
      ]
    },
    {
      "cell_type": "code",
      "metadata": {
        "id": "wUeSbMr_3KfD",
        "colab_type": "code",
        "colab": {
          "base_uri": "https://localhost:8080/",
          "height": 301
        },
        "outputId": "cb755489-5c23-4919-dab7-d25c6182d4a2"
      },
      "source": [
        "[(lambda x: text_blob_subjective(x))(x) for x in data]"
      ],
      "execution_count": 32,
      "outputs": [
        {
          "output_type": "execute_result",
          "data": {
            "text/plain": [
              "[Sentiment(polarity=-0.25, subjectivity=0.8333333333333334),\n",
              " Sentiment(polarity=0.0, subjectivity=0.0),\n",
              " Sentiment(polarity=0.0, subjectivity=0.0),\n",
              " Sentiment(polarity=0.0, subjectivity=0.0),\n",
              " Sentiment(polarity=0.0, subjectivity=0.0),\n",
              " Sentiment(polarity=0.0, subjectivity=0.0),\n",
              " Sentiment(polarity=-0.5, subjectivity=1.0),\n",
              " Sentiment(polarity=0.0, subjectivity=0.0),\n",
              " Sentiment(polarity=0.5, subjectivity=0.8333333333333334),\n",
              " Sentiment(polarity=0.0, subjectivity=0.0),\n",
              " Sentiment(polarity=0.0, subjectivity=0.0),\n",
              " Sentiment(polarity=0.0, subjectivity=0.0),\n",
              " Sentiment(polarity=0.1, subjectivity=0.6),\n",
              " Sentiment(polarity=0.25, subjectivity=0.5),\n",
              " Sentiment(polarity=0.8, subjectivity=1.0),\n",
              " Sentiment(polarity=0.375, subjectivity=0.5)]"
            ]
          },
          "metadata": {
            "tags": []
          },
          "execution_count": 32
        }
      ]
    },
    {
      "cell_type": "markdown",
      "metadata": {
        "id": "lRwuAr8Ji4uV",
        "colab_type": "text"
      },
      "source": [
        "## **Flair LSTM**\n",
        "* classifier based on a character-leval LSTM. Takes a sequences of letters and words into account when predicting\n",
        "\n",
        "* one of its biggest advantages is that it can predict a sentiment for OOV words that it has never seen before too (such as typos)"
      ]
    },
    {
      "cell_type": "code",
      "metadata": {
        "id": "H-P28QfCiXJ2",
        "colab_type": "code",
        "colab": {
          "base_uri": "https://localhost:8080/",
          "height": 35
        },
        "outputId": "c42bc6b9-dbca-41b4-a330-8a320e02b761"
      },
      "source": [
        "flair_lstm(' '.join(data))"
      ],
      "execution_count": 33,
      "outputs": [
        {
          "output_type": "execute_result",
          "data": {
            "text/plain": [
              "[NEGATIVE (0.9703)]"
            ]
          },
          "metadata": {
            "tags": []
          },
          "execution_count": 33
        }
      ]
    },
    {
      "cell_type": "code",
      "metadata": {
        "id": "bHGmli2_3Vlw",
        "colab_type": "code",
        "colab": {
          "base_uri": "https://localhost:8080/",
          "height": 339
        },
        "outputId": "5496addd-8a75-4835-ea8f-7b521116bbaf"
      },
      "source": [
        "print(data)\n",
        "[(lambda x: flair_lstm(x))(x) for x in data]"
      ],
      "execution_count": 34,
      "outputs": [
        {
          "output_type": "stream",
          "text": [
            "['not confident', 'unsure', 'does not handles pressure', 'disordered', 'talkative', 'uninsterested', 'sad', 'unfriendly', 'confident', 'certany', 'handles pressure', 'organized', 'concise', 'interested', 'happy', 'friendly']\n"
          ],
          "name": "stdout"
        },
        {
          "output_type": "execute_result",
          "data": {
            "text/plain": [
              "[[NEGATIVE (0.9999)],\n",
              " [NEGATIVE (0.9923)],\n",
              " [NEGATIVE (0.9999)],\n",
              " [NEGATIVE (0.9998)],\n",
              " [POSITIVE (0.9906)],\n",
              " [NEGATIVE (0.9997)],\n",
              " [NEGATIVE (0.9987)],\n",
              " [NEGATIVE (0.9985)],\n",
              " [POSITIVE (0.9971)],\n",
              " [NEGATIVE (0.9771)],\n",
              " [POSITIVE (0.9928)],\n",
              " [POSITIVE (0.996)],\n",
              " [POSITIVE (0.9949)],\n",
              " [POSITIVE (0.9967)],\n",
              " [POSITIVE (0.9839)],\n",
              " [POSITIVE (0.9793)]]"
            ]
          },
          "metadata": {
            "tags": []
          },
          "execution_count": 34
        }
      ]
    },
    {
      "cell_type": "markdown",
      "metadata": {
        "id": "DF5Mt-wrR-Lj",
        "colab_type": "text"
      },
      "source": [
        "## **Stanza**\n",
        "* stanza pipeline by using a CNN classifier.\n",
        "* training this model on 2 class data using higher dimension word vectors achieves the 87 score reported in the original CNN classifier paper. On a three class projection of the SST test data, the model trained on multiple datasets gets 70.0%."
      ]
    },
    {
      "cell_type": "code",
      "metadata": {
        "id": "sgz86Y3FSFrY",
        "colab_type": "code",
        "colab": {
          "base_uri": "https://localhost:8080/",
          "height": 72
        },
        "outputId": "10b079e4-ac48-40ce-f5b6-6d598eaf8398"
      },
      "source": [
        "# 0 : neutral\n",
        "# 1 : negative\n",
        "# 2 : positive\n",
        "print(data)\n",
        "[(lambda x: stanza_funct(x))(x) for x in data]"
      ],
      "execution_count": 35,
      "outputs": [
        {
          "output_type": "stream",
          "text": [
            "['not confident', 'unsure', 'does not handles pressure', 'disordered', 'talkative', 'uninsterested', 'sad', 'unfriendly', 'confident', 'certany', 'handles pressure', 'organized', 'concise', 'interested', 'happy', 'friendly']\n"
          ],
          "name": "stdout"
        },
        {
          "output_type": "execute_result",
          "data": {
            "text/plain": [
              "[0, 1, 0, 1, 1, 1, 0, 0, 2, 1, 1, 2, 1, 2, 2, 2]"
            ]
          },
          "metadata": {
            "tags": []
          },
          "execution_count": 35
        }
      ]
    },
    {
      "cell_type": "markdown",
      "metadata": {
        "id": "zzN_nUW_5zrF",
        "colab_type": "text"
      },
      "source": [
        "---\n",
        "# **5. Graphs**\n",
        "---"
      ]
    },
    {
      "cell_type": "markdown",
      "metadata": {
        "id": "vRcaz7LAdYbq",
        "colab_type": "text"
      },
      "source": [
        "### **X, Y**"
      ]
    },
    {
      "cell_type": "code",
      "metadata": {
        "id": "0N7dy2V-I1b7",
        "colab_type": "code",
        "colab": {}
      },
      "source": [
        "x_plots = data"
      ],
      "execution_count": 36,
      "outputs": []
    },
    {
      "cell_type": "code",
      "metadata": {
        "id": "4LfEOT_17r6s",
        "colab_type": "code",
        "colab": {}
      },
      "source": [
        "y_flair_scores = np.array([x for b in [list(map(lambda x: x.score, score)) for score in [(lambda x: flair_lstm(x))(x) for x in data]] for x in b])"
      ],
      "execution_count": 37,
      "outputs": []
    },
    {
      "cell_type": "code",
      "metadata": {
        "id": "2M62lkw-PXzt",
        "colab_type": "code",
        "colab": {}
      },
      "source": [
        "y_flair_values_aux = [x for b in [list(map(lambda x: x.value, value)) for value in [(lambda x: flair_lstm(x))(x) for x in data]] for x in b]\n",
        "y_flair_values = []\n",
        "for i in y_flair_values_aux:\n",
        "    if i == 'POSITIVE': \n",
        "        y_flair_values.append(1)\n",
        "    else:\n",
        "        y_flair_values.append(-1)\n",
        "y_flair_values = np.array(y_flair_values)"
      ],
      "execution_count": 38,
      "outputs": []
    },
    {
      "cell_type": "code",
      "metadata": {
        "id": "AggCuEG8Ftlp",
        "colab_type": "code",
        "colab": {}
      },
      "source": [
        "y_textblob_sentiment = np.array([(lambda x: text_blob_subjective(x)[0])(x) for x in data])\n",
        "y_textblob_subjectivity = np.array([(lambda x: text_blob_subjective(x)[1])(x) for x in data])"
      ],
      "execution_count": 39,
      "outputs": []
    },
    {
      "cell_type": "code",
      "metadata": {
        "id": "GzKPkYguIx_Y",
        "colab_type": "code",
        "colab": {}
      },
      "source": [
        "y_vader = [(lambda x: SIA.polarity_scores(x)['compound'])(x) for x in data]\n",
        "y_vader = np.array(y_vader)"
      ],
      "execution_count": 40,
      "outputs": []
    },
    {
      "cell_type": "code",
      "metadata": {
        "id": "uNKxjeo1S_9w",
        "colab_type": "code",
        "colab": {}
      },
      "source": [
        "y_stanza_1 = [(lambda x: stanza_funct(x))(x) for x in data]\n",
        "y_stanza = []\n",
        "for i in y_stanza_1:\n",
        "    if i == 2:\n",
        "        y_stanza.append(1)\n",
        "    elif i == 1:\n",
        "        y_stanza.append(0)\n",
        "    else:\n",
        "        y_stanza.append(-1)\n",
        "y_stanza = np.array(y_stanza)"
      ],
      "execution_count": 41,
      "outputs": []
    },
    {
      "cell_type": "markdown",
      "metadata": {
        "id": "TvSDx-PMccBh",
        "colab_type": "text"
      },
      "source": [
        "### **Numpy Array Results**"
      ]
    },
    {
      "cell_type": "code",
      "metadata": {
        "id": "zLOZRMWucl5S",
        "colab_type": "code",
        "colab": {
          "base_uri": "https://localhost:8080/",
          "height": 35
        },
        "outputId": "affaf95e-718b-465a-8e0f-ebdb5395d4a9"
      },
      "source": [
        "y_flair_values"
      ],
      "execution_count": 44,
      "outputs": [
        {
          "output_type": "execute_result",
          "data": {
            "text/plain": [
              "array([-1, -1, -1, -1,  1, -1, -1, -1,  1, -1,  1,  1,  1,  1,  1,  1])"
            ]
          },
          "metadata": {
            "tags": []
          },
          "execution_count": 44
        }
      ]
    },
    {
      "cell_type": "code",
      "metadata": {
        "id": "3G74wv0BVuW2",
        "colab_type": "code",
        "colab": {
          "base_uri": "https://localhost:8080/",
          "height": 88
        },
        "outputId": "09e675e1-295a-472e-d27d-2028729adfc3"
      },
      "source": [
        "y_flair_scores"
      ],
      "execution_count": 47,
      "outputs": [
        {
          "output_type": "execute_result",
          "data": {
            "text/plain": [
              "array([0.99985647, 0.99227095, 0.99994195, 0.99975961, 0.99057263,\n",
              "       0.9997341 , 0.99871314, 0.99850661, 0.99709618, 0.97707433,\n",
              "       0.99275267, 0.99604756, 0.99489647, 0.9967128 , 0.98393667,\n",
              "       0.97929859])"
            ]
          },
          "metadata": {
            "tags": []
          },
          "execution_count": 47
        }
      ]
    },
    {
      "cell_type": "code",
      "metadata": {
        "id": "Qt7fQ1JjcjAP",
        "colab_type": "code",
        "colab": {
          "base_uri": "https://localhost:8080/",
          "height": 52
        },
        "outputId": "85121e87-35e0-4764-d368-536a0895fc73"
      },
      "source": [
        "y_textblob_sentiment"
      ],
      "execution_count": 45,
      "outputs": [
        {
          "output_type": "execute_result",
          "data": {
            "text/plain": [
              "array([-0.25 ,  0.   ,  0.   ,  0.   ,  0.   ,  0.   , -0.5  ,  0.   ,\n",
              "        0.5  ,  0.   ,  0.   ,  0.   ,  0.1  ,  0.25 ,  0.8  ,  0.375])"
            ]
          },
          "metadata": {
            "tags": []
          },
          "execution_count": 45
        }
      ]
    },
    {
      "cell_type": "code",
      "metadata": {
        "id": "AyzffYWucggu",
        "colab_type": "code",
        "colab": {
          "base_uri": "https://localhost:8080/",
          "height": 88
        },
        "outputId": "89b76595-aa42-4ed6-a86c-e40a03e0b191"
      },
      "source": [
        "y_textblob_subjectivity"
      ],
      "execution_count": 49,
      "outputs": [
        {
          "output_type": "execute_result",
          "data": {
            "text/plain": [
              "array([0.83333333, 0.        , 0.        , 0.        , 0.        ,\n",
              "       0.        , 1.        , 0.        , 0.83333333, 0.        ,\n",
              "       0.        , 0.        , 0.6       , 0.5       , 1.        ,\n",
              "       0.5       ])"
            ]
          },
          "metadata": {
            "tags": []
          },
          "execution_count": 49
        }
      ]
    },
    {
      "cell_type": "code",
      "metadata": {
        "id": "tkXXaJuCcnXV",
        "colab_type": "code",
        "colab": {
          "base_uri": "https://localhost:8080/",
          "height": 35
        },
        "outputId": "a8c8fd52-70e8-4513-8b0a-cfe1781b79ba"
      },
      "source": [
        "y_stanza"
      ],
      "execution_count": 48,
      "outputs": [
        {
          "output_type": "execute_result",
          "data": {
            "text/plain": [
              "array([-1,  0, -1,  0,  0,  0, -1, -1,  1,  0,  0,  0,  0,  1,  1,  1])"
            ]
          },
          "metadata": {
            "tags": []
          },
          "execution_count": 48
        }
      ]
    },
    {
      "cell_type": "markdown",
      "metadata": {
        "id": "-3OGWkqMCypV",
        "colab_type": "text"
      },
      "source": [
        "## **Plotting bars**"
      ]
    },
    {
      "cell_type": "code",
      "metadata": {
        "id": "QW48_H7-_v1H",
        "colab_type": "code",
        "colab": {}
      },
      "source": [
        "def plot_bar(p1y, p2y, p3y, p4y, p5y, x, size):\n",
        "    plt.figure(figsize=size)\n",
        "    plt.bar(x, p1y, label='Flair', color='red')\n",
        "    plt.bar(x, p2y, label='TextBlob', color='blue')\n",
        "    plt.bar(x, p3y, label='Subjectivity', color='purple')\n",
        "    plt.bar(x, p4y, label='Vader', color='green')\n",
        "    plt.bar(x, p5y, label='Stanza', color='grey')\n",
        "    plt.title('NLP SCORES PREDICTION vs WORDS')\n",
        "    plt.xlabel('SENTENCE')\n",
        "    plt.ylabel('SCORES')\n",
        "    plt.legend(loc='upper left')\n",
        "    plt.xticks(rotation='vertical')\n",
        "    plt.tight_layout()\n",
        "    plt.grid(True)\n",
        "\n",
        "    plt.show()"
      ],
      "execution_count": 50,
      "outputs": []
    },
    {
      "cell_type": "code",
      "metadata": {
        "id": "ZQGZL70JCxnD",
        "colab_type": "code",
        "colab": {
          "base_uri": "https://localhost:8080/",
          "height": 585
        },
        "outputId": "790bb5c9-fd7c-45a4-da95-06d31e3cf8e0"
      },
      "source": [
        "plot_bar(\n",
        "    p1y=y_flair_values,\n",
        "    p2y=y_textblob_sentiment,\n",
        "    p3y=y_textblob_subjectivity,\n",
        "    p4y=y_vader,\n",
        "    p5y=y_stanza,\n",
        "    x=x_plots,\n",
        "    size=(16,  8)\n",
        ")"
      ],
      "execution_count": 51,
      "outputs": [
        {
          "output_type": "display_data",
          "data": {
            "image/png": "[encoded data removed]",
            "text/plain": [
              "<Figure size 1152x576 with 1 Axes>"
            ]
          },
          "metadata": {
            "tags": [],
            "needs_background": "light"
          }
        }
      ]
    },
    {
      "cell_type": "markdown",
      "metadata": {
        "id": "xIJE1JOgC4HR",
        "colab_type": "text"
      },
      "source": [
        "## **Plotting lines**"
      ]
    },
    {
      "cell_type": "code",
      "metadata": {
        "id": "YSQ9W6c6A-Fp",
        "colab_type": "code",
        "colab": {}
      },
      "source": [
        "def plot_lines(p1y, p2y, p3y, p4y, p5y, x, size):\n",
        "    plt.figure(figsize=size)\n",
        "    plt.plot(x, p1y, linestyle='solid', color='red', label='Flair')\n",
        "    plt.plot(x, p2y, linestyle='solid', color='blue', label='TextBlob')\n",
        "    plt.plot(x, p3y, linestyle='dashed', color='purple', label='Subjectivity')\n",
        "    plt.plot(x, p4y, linestyle='solid', color='green', label='Vader')\n",
        "    plt.plot(x, p5y, linestyle='solid', color='black', label='Stanza')\n",
        "    plt.title('NLP SCORES PREDICTION vs WORDS')\n",
        "    plt.xlabel('SENTENCE')\n",
        "    plt.ylabel('SCORES')\n",
        "    plt.legend()\n",
        "    plt.xticks(size=10, rotation='vertical')\n",
        "    plt.yticks(size=10)\n",
        "    plt.grid(True)\n",
        "    \n",
        "    plt.show()"
      ],
      "execution_count": 52,
      "outputs": []
    },
    {
      "cell_type": "code",
      "metadata": {
        "id": "rzZBWMa8CPga",
        "colab_type": "code",
        "colab": {
          "base_uri": "https://localhost:8080/",
          "height": 744
        },
        "outputId": "e456d0f3-d4eb-45fd-ed0a-3bc34aa44a75"
      },
      "source": [
        "plot_lines(\n",
        "    p1y=y_flair_values,\n",
        "    p2y=y_textblob_sentiment,\n",
        "    p3y=y_textblob_subjectivity,\n",
        "    p4y=y_vader,\n",
        "    p5y=y_stanza,\n",
        "    x=x_plots,\n",
        "    size=(20,  10)\n",
        ")"
      ],
      "execution_count": 53,
      "outputs": [
        {
          "output_type": "display_data",
          "data": {
            "image/png": "[encoded data removed]",
            "text/plain": [
              "<Figure size 1440x720 with 1 Axes>"
            ]
          },
          "metadata": {
            "tags": [],
            "needs_background": "light"
          }
        }
      ]
    },
    {
      "cell_type": "code",
      "metadata": {
        "id": "4QcrDh0gN8My",
        "colab_type": "code",
        "colab": {}
      },
      "source": [
        "def plot_flair(x, y):\n",
        "    plt.figure(figsize=(10, 8))\n",
        "    plt.plot(x, y, linestyle='solid', color='red', label='Flair')\n",
        "    plt.title('Flair LSTM accuracy')\n",
        "    plt.xlabel('SENTENCE')\n",
        "    plt.ylabel('ACCURACY')\n",
        "    plt.legend()\n",
        "    plt.xticks(size=10, rotation='vertical')\n",
        "    plt.yticks(size=10)\n",
        "    plt.grid(True)\n",
        "    \n",
        "    plt.show()"
      ],
      "execution_count": 54,
      "outputs": []
    },
    {
      "cell_type": "code",
      "metadata": {
        "id": "ep93M8Y6OLTc",
        "colab_type": "code",
        "colab": {
          "base_uri": "https://localhost:8080/",
          "height": 635
        },
        "outputId": "e8f10295-52e0-4dd3-b0b6-1322fc17d053"
      },
      "source": [
        "plot_flair(x_plots, y_flair_scores)"
      ],
      "execution_count": 55,
      "outputs": [
        {
          "output_type": "display_data",
          "data": {
            "image/png": "[encoded data removed]",
            "text/plain": [
              "<Figure size 720x576 with 1 Axes>"
            ]
          },
          "metadata": {
            "tags": [],
            "needs_background": "light"
          }
        }
      ]
    },
    {
      "cell_type": "markdown",
      "metadata": {
        "id": "PJ2Vnc03caRH",
        "colab_type": "text"
      },
      "source": [
        "---\n",
        "# **6. Brief positive conclusion**\n",
        "---\n",
        "\n",
        "1. **Flair** is great because the properties of the LSTM model: takes into account sequences of letters and words when predicting\n",
        "2. **TextBlob** subjectivity works great\n",
        "3. **Vader** & **Stanza (CNN)** are great to detect particular and intense positive or negative words\n",
        "\n",
        "---\n",
        "\n",
        "## To-do:\n",
        "* SpaCy testing\n",
        "---"
      ]
    }
  ]
}
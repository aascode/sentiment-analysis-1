{
  "nbformat": 4,
  "nbformat_minor": 0,
  "metadata": {
    "colab": {
      "name": "plotting_NLP.ipynb",
      "provenance": [],
      "collapsed_sections": [],
      "machine_shape": "hm"
    },
    "kernelspec": {
      "name": "python3",
      "display_name": "Python 3"
    },
    "accelerator": "TPU"
  },
  "cells": [
    {
      "cell_type": "code",
      "metadata": {
        "id": "ziQyamb7gKSt",
        "colab_type": "code",
        "colab": {
          "base_uri": "https://localhost:8080/",
          "height": 1000
        },
        "outputId": "5f16ab32-ad7d-4ab6-d3f4-fc0516327d2c"
      },
      "source": [
        "!pip install nltk\n",
        "!pip3 install flair\n",
        "!pip install textblob\n",
        "\n",
        "!pip install stanza\n",
        "!pip install spacy"
      ],
      "execution_count": 71,
      "outputs": [
        {
          "output_type": "stream",
          "text": [
            "Requirement already satisfied: nltk in /usr/local/lib/python3.6/dist-packages (3.2.5)\n",
            "Requirement already satisfied: six in /usr/local/lib/python3.6/dist-packages (from nltk) (1.15.0)\n",
            "Requirement already satisfied: flair in /usr/local/lib/python3.6/dist-packages (0.6)\n",
            "Requirement already satisfied: sqlitedict>=1.6.0 in /usr/local/lib/python3.6/dist-packages (from flair) (1.6.0)\n",
            "Requirement already satisfied: matplotlib>=2.2.3 in /usr/local/lib/python3.6/dist-packages (from flair) (3.2.2)\n",
            "Requirement already satisfied: tqdm>=4.26.0 in /usr/local/lib/python3.6/dist-packages (from flair) (4.41.1)\n",
            "Requirement already satisfied: bpemb>=0.3.2 in /usr/local/lib/python3.6/dist-packages (from flair) (0.3.2)\n",
            "Requirement already satisfied: pytest>=5.3.2 in /usr/local/lib/python3.6/dist-packages (from flair) (6.0.1)\n",
            "Requirement already satisfied: mpld3==0.3 in /usr/local/lib/python3.6/dist-packages (from flair) (0.3)\n",
            "Requirement already satisfied: python-dateutil>=2.6.1 in /usr/local/lib/python3.6/dist-packages (from flair) (2.8.1)\n",
            "Requirement already satisfied: tabulate in /usr/local/lib/python3.6/dist-packages (from flair) (0.8.7)\n",
            "Requirement already satisfied: lxml in /usr/local/lib/python3.6/dist-packages (from flair) (4.2.6)\n",
            "Requirement already satisfied: langdetect in /usr/local/lib/python3.6/dist-packages (from flair) (1.0.8)\n",
            "Requirement already satisfied: hyperopt>=0.1.1 in /usr/local/lib/python3.6/dist-packages (from flair) (0.1.2)\n",
            "Requirement already satisfied: torch>=1.1.0 in /usr/local/lib/python3.6/dist-packages (from flair) (1.6.0+cu101)\n",
            "Requirement already satisfied: gensim>=3.4.0 in /usr/local/lib/python3.6/dist-packages (from flair) (3.6.0)\n",
            "Requirement already satisfied: scikit-learn>=0.21.3 in /usr/local/lib/python3.6/dist-packages (from flair) (0.22.2.post1)\n",
            "Requirement already satisfied: deprecated>=1.2.4 in /usr/local/lib/python3.6/dist-packages (from flair) (1.2.10)\n",
            "Requirement already satisfied: regex in /usr/local/lib/python3.6/dist-packages (from flair) (2019.12.20)\n",
            "Requirement already satisfied: sentencepiece!=0.1.92 in /usr/local/lib/python3.6/dist-packages (from flair) (0.1.91)\n",
            "Requirement already satisfied: ftfy in /usr/local/lib/python3.6/dist-packages (from flair) (5.8)\n",
            "Requirement already satisfied: transformers>=3.0.0 in /usr/local/lib/python3.6/dist-packages (from flair) (3.0.2)\n",
            "Requirement already satisfied: segtok>=1.5.7 in /usr/local/lib/python3.6/dist-packages (from flair) (1.5.10)\n",
            "Requirement already satisfied: konoha[janome]<5.0.0,>=4.0.0 in /usr/local/lib/python3.6/dist-packages (from flair) (4.6.1)\n",
            "Requirement already satisfied: numpy>=1.11 in /usr/local/lib/python3.6/dist-packages (from matplotlib>=2.2.3->flair) (1.18.5)\n",
            "Requirement already satisfied: kiwisolver>=1.0.1 in /usr/local/lib/python3.6/dist-packages (from matplotlib>=2.2.3->flair) (1.2.0)\n",
            "Requirement already satisfied: cycler>=0.10 in /usr/local/lib/python3.6/dist-packages (from matplotlib>=2.2.3->flair) (0.10.0)\n",
            "Requirement already satisfied: pyparsing!=2.0.4,!=2.1.2,!=2.1.6,>=2.0.1 in /usr/local/lib/python3.6/dist-packages (from matplotlib>=2.2.3->flair) (2.4.7)\n",
            "Requirement already satisfied: requests in /usr/local/lib/python3.6/dist-packages (from bpemb>=0.3.2->flair) (2.23.0)\n",
            "Requirement already satisfied: attrs>=17.4.0 in /usr/local/lib/python3.6/dist-packages (from pytest>=5.3.2->flair) (20.1.0)\n",
            "Requirement already satisfied: importlib-metadata>=0.12; python_version < \"3.8\" in /usr/local/lib/python3.6/dist-packages (from pytest>=5.3.2->flair) (1.7.0)\n",
            "Requirement already satisfied: packaging in /usr/local/lib/python3.6/dist-packages (from pytest>=5.3.2->flair) (20.4)\n",
            "Requirement already satisfied: iniconfig in /usr/local/lib/python3.6/dist-packages (from pytest>=5.3.2->flair) (1.0.1)\n",
            "Requirement already satisfied: pluggy<1.0,>=0.12 in /usr/local/lib/python3.6/dist-packages (from pytest>=5.3.2->flair) (0.13.1)\n",
            "Requirement already satisfied: toml in /usr/local/lib/python3.6/dist-packages (from pytest>=5.3.2->flair) (0.10.1)\n",
            "Requirement already satisfied: py>=1.8.2 in /usr/local/lib/python3.6/dist-packages (from pytest>=5.3.2->flair) (1.9.0)\n",
            "Requirement already satisfied: more-itertools>=4.0.0 in /usr/local/lib/python3.6/dist-packages (from pytest>=5.3.2->flair) (8.4.0)\n",
            "Requirement already satisfied: six>=1.5 in /usr/local/lib/python3.6/dist-packages (from python-dateutil>=2.6.1->flair) (1.15.0)\n",
            "Requirement already satisfied: scipy in /usr/local/lib/python3.6/dist-packages (from hyperopt>=0.1.1->flair) (1.4.1)\n",
            "Requirement already satisfied: networkx in /usr/local/lib/python3.6/dist-packages (from hyperopt>=0.1.1->flair) (2.5)\n",
            "Requirement already satisfied: pymongo in /usr/local/lib/python3.6/dist-packages (from hyperopt>=0.1.1->flair) (3.11.0)\n",
            "Requirement already satisfied: future in /usr/local/lib/python3.6/dist-packages (from hyperopt>=0.1.1->flair) (0.16.0)\n",
            "Requirement already satisfied: smart-open>=1.2.1 in /usr/local/lib/python3.6/dist-packages (from gensim>=3.4.0->flair) (2.1.0)\n",
            "Requirement already satisfied: joblib>=0.11 in /usr/local/lib/python3.6/dist-packages (from scikit-learn>=0.21.3->flair) (0.16.0)\n",
            "Requirement already satisfied: wrapt<2,>=1.10 in /usr/local/lib/python3.6/dist-packages (from deprecated>=1.2.4->flair) (1.12.1)\n",
            "Requirement already satisfied: wcwidth in /usr/local/lib/python3.6/dist-packages (from ftfy->flair) (0.2.5)\n",
            "Requirement already satisfied: filelock in /usr/local/lib/python3.6/dist-packages (from transformers>=3.0.0->flair) (3.0.12)\n",
            "Requirement already satisfied: sacremoses in /usr/local/lib/python3.6/dist-packages (from transformers>=3.0.0->flair) (0.0.43)\n",
            "Requirement already satisfied: tokenizers==0.8.1.rc1 in /usr/local/lib/python3.6/dist-packages (from transformers>=3.0.0->flair) (0.8.1rc1)\n",
            "Requirement already satisfied: dataclasses; python_version < \"3.7\" in /usr/local/lib/python3.6/dist-packages (from transformers>=3.0.0->flair) (0.7)\n",
            "Requirement already satisfied: overrides==3.0.0 in /usr/local/lib/python3.6/dist-packages (from konoha[janome]<5.0.0,>=4.0.0->flair) (3.0.0)\n",
            "Requirement already satisfied: janome<0.4.0,>=0.3.10; extra == \"janome\" or extra == \"all\" or extra == \"all_with_integrations\" in /usr/local/lib/python3.6/dist-packages (from konoha[janome]<5.0.0,>=4.0.0->flair) (0.3.10)\n",
            "Requirement already satisfied: idna<3,>=2.5 in /usr/local/lib/python3.6/dist-packages (from requests->bpemb>=0.3.2->flair) (2.10)\n",
            "Requirement already satisfied: urllib3!=1.25.0,!=1.25.1,<1.26,>=1.21.1 in /usr/local/lib/python3.6/dist-packages (from requests->bpemb>=0.3.2->flair) (1.24.3)\n",
            "Requirement already satisfied: chardet<4,>=3.0.2 in /usr/local/lib/python3.6/dist-packages (from requests->bpemb>=0.3.2->flair) (3.0.4)\n",
            "Requirement already satisfied: certifi>=2017.4.17 in /usr/local/lib/python3.6/dist-packages (from requests->bpemb>=0.3.2->flair) (2020.6.20)\n",
            "Requirement already satisfied: zipp>=0.5 in /usr/local/lib/python3.6/dist-packages (from importlib-metadata>=0.12; python_version < \"3.8\"->pytest>=5.3.2->flair) (3.1.0)\n",
            "Requirement already satisfied: decorator>=4.3.0 in /usr/local/lib/python3.6/dist-packages (from networkx->hyperopt>=0.1.1->flair) (4.4.2)\n",
            "Requirement already satisfied: boto in /usr/local/lib/python3.6/dist-packages (from smart-open>=1.2.1->gensim>=3.4.0->flair) (2.49.0)\n",
            "Requirement already satisfied: boto3 in /usr/local/lib/python3.6/dist-packages (from smart-open>=1.2.1->gensim>=3.4.0->flair) (1.14.48)\n",
            "Requirement already satisfied: click in /usr/local/lib/python3.6/dist-packages (from sacremoses->transformers>=3.0.0->flair) (7.1.2)\n",
            "Requirement already satisfied: s3transfer<0.4.0,>=0.3.0 in /usr/local/lib/python3.6/dist-packages (from boto3->smart-open>=1.2.1->gensim>=3.4.0->flair) (0.3.3)\n",
            "Requirement already satisfied: jmespath<1.0.0,>=0.7.1 in /usr/local/lib/python3.6/dist-packages (from boto3->smart-open>=1.2.1->gensim>=3.4.0->flair) (0.10.0)\n",
            "Requirement already satisfied: botocore<1.18.0,>=1.17.48 in /usr/local/lib/python3.6/dist-packages (from boto3->smart-open>=1.2.1->gensim>=3.4.0->flair) (1.17.48)\n",
            "Requirement already satisfied: docutils<0.16,>=0.10 in /usr/local/lib/python3.6/dist-packages (from botocore<1.18.0,>=1.17.48->boto3->smart-open>=1.2.1->gensim>=3.4.0->flair) (0.15.2)\n",
            "Requirement already satisfied: textblob in /usr/local/lib/python3.6/dist-packages (0.15.3)\n",
            "Requirement already satisfied: nltk>=3.1 in /usr/local/lib/python3.6/dist-packages (from textblob) (3.2.5)\n",
            "Requirement already satisfied: six in /usr/local/lib/python3.6/dist-packages (from nltk>=3.1->textblob) (1.15.0)\n",
            "Requirement already satisfied: stanza in /usr/local/lib/python3.6/dist-packages (1.1.1)\n",
            "Requirement already satisfied: protobuf in /usr/local/lib/python3.6/dist-packages (from stanza) (3.12.4)\n",
            "Requirement already satisfied: torch>=1.3.0 in /usr/local/lib/python3.6/dist-packages (from stanza) (1.6.0+cu101)\n",
            "Requirement already satisfied: numpy in /usr/local/lib/python3.6/dist-packages (from stanza) (1.18.5)\n",
            "Requirement already satisfied: tqdm in /usr/local/lib/python3.6/dist-packages (from stanza) (4.41.1)\n",
            "Requirement already satisfied: requests in /usr/local/lib/python3.6/dist-packages (from stanza) (2.23.0)\n",
            "Requirement already satisfied: six>=1.9 in /usr/local/lib/python3.6/dist-packages (from protobuf->stanza) (1.15.0)\n",
            "Requirement already satisfied: setuptools in /usr/local/lib/python3.6/dist-packages (from protobuf->stanza) (49.6.0)\n",
            "Requirement already satisfied: future in /usr/local/lib/python3.6/dist-packages (from torch>=1.3.0->stanza) (0.16.0)\n",
            "Requirement already satisfied: certifi>=2017.4.17 in /usr/local/lib/python3.6/dist-packages (from requests->stanza) (2020.6.20)\n",
            "Requirement already satisfied: idna<3,>=2.5 in /usr/local/lib/python3.6/dist-packages (from requests->stanza) (2.10)\n",
            "Requirement already satisfied: urllib3!=1.25.0,!=1.25.1,<1.26,>=1.21.1 in /usr/local/lib/python3.6/dist-packages (from requests->stanza) (1.24.3)\n",
            "Requirement already satisfied: chardet<4,>=3.0.2 in /usr/local/lib/python3.6/dist-packages (from requests->stanza) (3.0.4)\n",
            "Requirement already satisfied: spacy in /usr/local/lib/python3.6/dist-packages (2.2.4)\n",
            "Requirement already satisfied: preshed<3.1.0,>=3.0.2 in /usr/local/lib/python3.6/dist-packages (from spacy) (3.0.2)\n",
            "Requirement already satisfied: setuptools in /usr/local/lib/python3.6/dist-packages (from spacy) (49.6.0)\n",
            "Requirement already satisfied: requests<3.0.0,>=2.13.0 in /usr/local/lib/python3.6/dist-packages (from spacy) (2.23.0)\n",
            "Requirement already satisfied: srsly<1.1.0,>=1.0.2 in /usr/local/lib/python3.6/dist-packages (from spacy) (1.0.2)\n",
            "Requirement already satisfied: wasabi<1.1.0,>=0.4.0 in /usr/local/lib/python3.6/dist-packages (from spacy) (0.7.1)\n",
            "Requirement already satisfied: numpy>=1.15.0 in /usr/local/lib/python3.6/dist-packages (from spacy) (1.18.5)\n",
            "Requirement already satisfied: catalogue<1.1.0,>=0.0.7 in /usr/local/lib/python3.6/dist-packages (from spacy) (1.0.0)\n",
            "Requirement already satisfied: murmurhash<1.1.0,>=0.28.0 in /usr/local/lib/python3.6/dist-packages (from spacy) (1.0.2)\n",
            "Requirement already satisfied: cymem<2.1.0,>=2.0.2 in /usr/local/lib/python3.6/dist-packages (from spacy) (2.0.3)\n",
            "Requirement already satisfied: blis<0.5.0,>=0.4.0 in /usr/local/lib/python3.6/dist-packages (from spacy) (0.4.1)\n",
            "Requirement already satisfied: thinc==7.4.0 in /usr/local/lib/python3.6/dist-packages (from spacy) (7.4.0)\n",
            "Requirement already satisfied: plac<1.2.0,>=0.9.6 in /usr/local/lib/python3.6/dist-packages (from spacy) (1.1.3)\n",
            "Requirement already satisfied: tqdm<5.0.0,>=4.38.0 in /usr/local/lib/python3.6/dist-packages (from spacy) (4.41.1)\n",
            "Requirement already satisfied: idna<3,>=2.5 in /usr/local/lib/python3.6/dist-packages (from requests<3.0.0,>=2.13.0->spacy) (2.10)\n",
            "Requirement already satisfied: urllib3!=1.25.0,!=1.25.1,<1.26,>=1.21.1 in /usr/local/lib/python3.6/dist-packages (from requests<3.0.0,>=2.13.0->spacy) (1.24.3)\n",
            "Requirement already satisfied: chardet<4,>=3.0.2 in /usr/local/lib/python3.6/dist-packages (from requests<3.0.0,>=2.13.0->spacy) (3.0.4)\n",
            "Requirement already satisfied: certifi>=2017.4.17 in /usr/local/lib/python3.6/dist-packages (from requests<3.0.0,>=2.13.0->spacy) (2020.6.20)\n",
            "Requirement already satisfied: importlib-metadata>=0.20; python_version < \"3.8\" in /usr/local/lib/python3.6/dist-packages (from catalogue<1.1.0,>=0.0.7->spacy) (1.7.0)\n",
            "Requirement already satisfied: zipp>=0.5 in /usr/local/lib/python3.6/dist-packages (from importlib-metadata>=0.20; python_version < \"3.8\"->catalogue<1.1.0,>=0.0.7->spacy) (3.1.0)\n"
          ],
          "name": "stdout"
        }
      ]
    },
    {
      "cell_type": "code",
      "metadata": {
        "id": "HTS6dvWgjTRK",
        "colab_type": "code",
        "colab": {}
      },
      "source": [
        "import numpy as np\n",
        "import pandas as pd"
      ],
      "execution_count": 72,
      "outputs": []
    },
    {
      "cell_type": "code",
      "metadata": {
        "id": "jK5w_s6Kge2W",
        "colab_type": "code",
        "colab": {
          "base_uri": "https://localhost:8080/",
          "height": 52
        },
        "outputId": "98ddbea4-af7b-45ac-fb93-e5e8171ad182"
      },
      "source": [
        "import nltk\n",
        "from nltk.sentiment.vader import SentimentIntensityAnalyzer\n",
        "nltk.download('vader_lexicon')\n",
        "SIA = SentimentIntensityAnalyzer()"
      ],
      "execution_count": 73,
      "outputs": [
        {
          "output_type": "stream",
          "text": [
            "[nltk_data] Downloading package vader_lexicon to /root/nltk_data...\n",
            "[nltk_data]   Package vader_lexicon is already up-to-date!\n"
          ],
          "name": "stdout"
        }
      ]
    },
    {
      "cell_type": "code",
      "metadata": {
        "id": "plBOpEiwpmNp",
        "colab_type": "code",
        "colab": {
          "base_uri": "https://localhost:8080/",
          "height": 53
        },
        "outputId": "d8b61dc2-a602-44f2-d93f-0f6f902f55fc"
      },
      "source": [
        "# Stanza NLP CNN \n",
        "'''\n",
        "import stanza\n",
        "stanza.download('en', package='ewt', processors='tokenize,sentiment', verbose=True)\n",
        "stNLP = stanza.Pipeline(processors='tokenize,sentiment', lang='en', use_gpu=True)\n",
        "def stanza_funct(text):\n",
        "    data = stNLP(text)\n",
        "    for i, sentence in enumerate(data.sentences):\n",
        "        return i, sentence.sentiment\n",
        "'''"
      ],
      "execution_count": 74,
      "outputs": [
        {
          "output_type": "execute_result",
          "data": {
            "application/vnd.google.colaboratory.intrinsic+json": {
              "type": "string"
            },
            "text/plain": [
              "\"\\nimport stanza\\nstanza.download('en', package='ewt', processors='tokenize,sentiment', verbose=True)\\nstNLP = stanza.Pipeline(processors='tokenize,sentiment', lang='en', use_gpu=True)\\ndef stanza_funct(text):\\n    data = stNLP(text)\\n    for i, sentence in enumerate(data.sentences):\\n        return i, sentence.sentiment\\n\""
            ]
          },
          "metadata": {
            "tags": []
          },
          "execution_count": 74
        }
      ]
    },
    {
      "cell_type": "code",
      "metadata": {
        "id": "zoDCus-9ufXc",
        "colab_type": "code",
        "colab": {}
      },
      "source": [
        "# SpaCy\n",
        "# TextCategorizer\n",
        "import spacy\n",
        "from spacy.pipeline import TextCategorizer\n",
        "\n",
        "spNLP = spacy.load('en_core_web_sm')\n",
        "textcat = spNLP.create_pipe(name='textcat', config={'exclusive_classes': True})\n",
        "textcat = TextCategorizer(spNLP.vocab)"
      ],
      "execution_count": 75,
      "outputs": []
    },
    {
      "cell_type": "code",
      "metadata": {
        "id": "nNk1yFEvwJfx",
        "colab_type": "code",
        "colab": {}
      },
      "source": [
        "text = spNLP('this is a sentence.')\n",
        "#processed = textcat(text)"
      ],
      "execution_count": 76,
      "outputs": []
    },
    {
      "cell_type": "code",
      "metadata": {
        "id": "i8Q-2m7mvaLn",
        "colab_type": "code",
        "colab": {}
      },
      "source": [
        ""
      ],
      "execution_count": 76,
      "outputs": []
    },
    {
      "cell_type": "code",
      "metadata": {
        "id": "ZIeEIxpagqkJ",
        "colab_type": "code",
        "colab": {}
      },
      "source": [
        "from textblob import TextBlob"
      ],
      "execution_count": 77,
      "outputs": []
    },
    {
      "cell_type": "code",
      "metadata": {
        "id": "G3bdliRrg2kw",
        "colab_type": "code",
        "colab": {
          "base_uri": "https://localhost:8080/",
          "height": 35
        },
        "outputId": "b67d30fe-dbec-4b3d-d94c-c4391a43afe0"
      },
      "source": [
        "import flair\n",
        "flair_sent = flair.models.TextClassifier.load('en-sentiment')"
      ],
      "execution_count": 78,
      "outputs": [
        {
          "output_type": "stream",
          "text": [
            "2020-08-28 22:41:58,147 loading file /root/.flair/models/sentiment-en-mix-distillbert.pt\n"
          ],
          "name": "stdout"
        }
      ]
    },
    {
      "cell_type": "code",
      "metadata": {
        "id": "K-nxqDRugBpy",
        "colab_type": "code",
        "colab": {}
      },
      "source": [
        "def siaVader_compound(text):\n",
        "    scores = SIA.polarity_scores(text)\n",
        "    \n",
        "    comp_score = scores['compound']\n",
        "    if comp_score >= 0.05:\n",
        "        str_comp = 'pos'\n",
        "    elif comp_score <= -0.05:\n",
        "        str_comp = 'neg'\n",
        "    else: # (compound score > -0.05) and (compound score < 0.05)\n",
        "        str_comp = 'neu'\n",
        "    return str_comp\n",
        "\n",
        "def siaVader_maxScore(text):\n",
        "    scores = SIA.polarity_scores(text)\n",
        "    \n",
        "    del scores['compound']\n",
        "    index = np.argmax(list(scores.values()))\n",
        "    vader_MaxScore = list(scores.values())[index]\n",
        "    vader_label = list(scores)[index]\n",
        "    \n",
        "    return vader_label\n",
        "\n",
        "###\n",
        "def siaVader_byWord(text):\n",
        "    c = 0\n",
        "    for n, y in enumerate(text):\n",
        "        x = SIA.polarity_scores(y)\n",
        "        if x['compound'] != 0.0:\n",
        "            c += 1\n",
        "            # print('{}. {} {}'.format(c, x, y))\n",
        "            return 'pos' if x > 0.05 else 'neg'"
      ],
      "execution_count": 79,
      "outputs": []
    },
    {
      "cell_type": "code",
      "metadata": {
        "id": "Vfl3Mns-gtfK",
        "colab_type": "code",
        "colab": {}
      },
      "source": [
        "def text_blob_subjective(text):\n",
        "    return TextBlob(text).sentiment"
      ],
      "execution_count": 80,
      "outputs": []
    },
    {
      "cell_type": "code",
      "metadata": {
        "id": "gOyTlhydgI4k",
        "colab_type": "code",
        "colab": {}
      },
      "source": [
        "def flair_lstm(text):\n",
        "    x = flair.data.Sentence(text)\n",
        "    flair_sent.predict(sentences=x)\n",
        "    return x.labels"
      ],
      "execution_count": 81,
      "outputs": []
    },
    {
      "cell_type": "markdown",
      "metadata": {
        "id": "CShr2gm0iDS3",
        "colab_type": "text"
      },
      "source": [
        "---\n",
        "\n",
        "## **Comparing outputs**\n",
        "\n",
        "---"
      ]
    },
    {
      "cell_type": "markdown",
      "metadata": {
        "id": "3swCgi6KijqN",
        "colab_type": "text"
      },
      "source": [
        "### **data (text)**"
      ]
    },
    {
      "cell_type": "code",
      "metadata": {
        "id": "RKqOe6UOhb-Y",
        "colab_type": "code",
        "colab": {}
      },
      "source": [
        "#data = \"Is a fact the sky is yellow submarine\"\n",
        "#data = \"is a fact this sentence is subjective and neutral, but I love it\"\n",
        "data = 'I love working hard! The following sentence is a fact: done school examen! easy peasy so proud of myself!!!'"
      ],
      "execution_count": 82,
      "outputs": []
    },
    {
      "cell_type": "markdown",
      "metadata": {
        "id": "H3TURYqciqlu",
        "colab_type": "text"
      },
      "source": [
        "### Sentiment Intentisity Analyzer"
      ]
    },
    {
      "cell_type": "code",
      "metadata": {
        "id": "PM_KBvUoiUPQ",
        "colab_type": "code",
        "colab": {
          "base_uri": "https://localhost:8080/",
          "height": 35
        },
        "outputId": "9ad18d54-b84d-43e1-bfea-cdf49744e576"
      },
      "source": [
        "SIA.polarity_scores(data)"
      ],
      "execution_count": 83,
      "outputs": [
        {
          "output_type": "execute_result",
          "data": {
            "text/plain": [
              "{'compound': 0.9111, 'neg': 0.053, 'neu': 0.455, 'pos': 0.492}"
            ]
          },
          "metadata": {
            "tags": []
          },
          "execution_count": 83
        }
      ]
    },
    {
      "cell_type": "code",
      "metadata": {
        "id": "RX554uoq2ywa",
        "colab_type": "code",
        "colab": {
          "base_uri": "https://localhost:8080/",
          "height": 52
        },
        "outputId": "5801b7bb-24e6-4ece-d3d9-4ddd3c438ebd"
      },
      "source": [
        "print([i for i in data.split()])\n",
        "print([(lambda x: SIA.polarity_scores(x)['compound'])(x) for x in data.split()])"
      ],
      "execution_count": 84,
      "outputs": [
        {
          "output_type": "stream",
          "text": [
            "['I', 'love', 'working', 'hard!', 'The', 'following', 'sentence', 'is', 'a', 'fact:', 'done', 'school', 'examen!', 'easy', 'peasy', 'so', 'proud', 'of', 'myself!!!']\n",
            "[0.0, 0.6369, 0.0, -0.1759, 0.0, 0.0, 0.0772, 0.0, 0.0, 0.0, 0.0, 0.0, 0.0, 0.4404, 0.0, 0.0, 0.4767, 0.0, 0.0]\n"
          ],
          "name": "stdout"
        }
      ]
    },
    {
      "cell_type": "code",
      "metadata": {
        "id": "aXWDJN1uiZD1",
        "colab_type": "code",
        "colab": {
          "base_uri": "https://localhost:8080/",
          "height": 36
        },
        "outputId": "4d8d3c37-acb7-4156-da65-84113dfb6b8e"
      },
      "source": [
        "siaVader_compound(data)"
      ],
      "execution_count": 85,
      "outputs": [
        {
          "output_type": "execute_result",
          "data": {
            "application/vnd.google.colaboratory.intrinsic+json": {
              "type": "string"
            },
            "text/plain": [
              "'pos'"
            ]
          },
          "metadata": {
            "tags": []
          },
          "execution_count": 85
        }
      ]
    },
    {
      "cell_type": "code",
      "metadata": {
        "id": "5N_AoPwl21Ge",
        "colab_type": "code",
        "colab": {
          "base_uri": "https://localhost:8080/",
          "height": 52
        },
        "outputId": "6b8ba636-51de-4cd5-b2f8-0ffd382f64cb"
      },
      "source": [
        "print([i for i in data.split()])\n",
        "print([(lambda x: siaVader_compound(x))(x) for x in data.split()])"
      ],
      "execution_count": 86,
      "outputs": [
        {
          "output_type": "stream",
          "text": [
            "['I', 'love', 'working', 'hard!', 'The', 'following', 'sentence', 'is', 'a', 'fact:', 'done', 'school', 'examen!', 'easy', 'peasy', 'so', 'proud', 'of', 'myself!!!']\n",
            "['neu', 'pos', 'neu', 'neg', 'neu', 'neu', 'pos', 'neu', 'neu', 'neu', 'neu', 'neu', 'neu', 'pos', 'neu', 'neu', 'pos', 'neu', 'neu']\n"
          ],
          "name": "stdout"
        }
      ]
    },
    {
      "cell_type": "code",
      "metadata": {
        "id": "FE7Pctquifyg",
        "colab_type": "code",
        "colab": {
          "base_uri": "https://localhost:8080/",
          "height": 36
        },
        "outputId": "586af182-2606-4e4f-ddad-f16e8a63157c"
      },
      "source": [
        "siaVader_maxScore(data)"
      ],
      "execution_count": 87,
      "outputs": [
        {
          "output_type": "execute_result",
          "data": {
            "application/vnd.google.colaboratory.intrinsic+json": {
              "type": "string"
            },
            "text/plain": [
              "'pos'"
            ]
          },
          "metadata": {
            "tags": []
          },
          "execution_count": 87
        }
      ]
    },
    {
      "cell_type": "code",
      "metadata": {
        "id": "xG7sYB5A3BT4",
        "colab_type": "code",
        "colab": {
          "base_uri": "https://localhost:8080/",
          "height": 52
        },
        "outputId": "c59fbfac-bf91-48ce-f44a-722787cac592"
      },
      "source": [
        "print([i for i in data.split()])\n",
        "print([(lambda x: siaVader_maxScore(x))(x) for x in data.split()])"
      ],
      "execution_count": 88,
      "outputs": [
        {
          "output_type": "stream",
          "text": [
            "['I', 'love', 'working', 'hard!', 'The', 'following', 'sentence', 'is', 'a', 'fact:', 'done', 'school', 'examen!', 'easy', 'peasy', 'so', 'proud', 'of', 'myself!!!']\n",
            "['neg', 'pos', 'neu', 'neg', 'neu', 'neu', 'pos', 'neu', 'neg', 'neu', 'neu', 'neu', 'neu', 'pos', 'neu', 'neu', 'pos', 'neu', 'neu']\n"
          ],
          "name": "stdout"
        }
      ]
    },
    {
      "cell_type": "markdown",
      "metadata": {
        "id": "ytOKtne0ixoN",
        "colab_type": "text"
      },
      "source": [
        "### TextBlob subjective"
      ]
    },
    {
      "cell_type": "code",
      "metadata": {
        "id": "yYHpCDQuiw6T",
        "colab_type": "code",
        "colab": {
          "base_uri": "https://localhost:8080/",
          "height": 35
        },
        "outputId": "cb74440f-75d7-4b63-f622-2c8e2812883d"
      },
      "source": [
        "text_blob_subjective(data)"
      ],
      "execution_count": 89,
      "outputs": [
        {
          "output_type": "execute_result",
          "data": {
            "text/plain": [
              "Sentiment(polarity=0.31375000000000003, subjectivity=0.615)"
            ]
          },
          "metadata": {
            "tags": []
          },
          "execution_count": 89
        }
      ]
    },
    {
      "cell_type": "code",
      "metadata": {
        "id": "wUeSbMr_3KfD",
        "colab_type": "code",
        "colab": {
          "base_uri": "https://localhost:8080/",
          "height": 355
        },
        "outputId": "2ed2e62e-9ba1-4747-e482-41572d17d048"
      },
      "source": [
        "[(lambda x: text_blob_subjective(x))(x) for x in data.split()]"
      ],
      "execution_count": 90,
      "outputs": [
        {
          "output_type": "execute_result",
          "data": {
            "text/plain": [
              "[Sentiment(polarity=0.0, subjectivity=0.0),\n",
              " Sentiment(polarity=0.5, subjectivity=0.6),\n",
              " Sentiment(polarity=0.0, subjectivity=0.0),\n",
              " Sentiment(polarity=-0.36458333333333337, subjectivity=0.5416666666666666),\n",
              " Sentiment(polarity=0.0, subjectivity=0.0),\n",
              " Sentiment(polarity=0.0, subjectivity=0.1),\n",
              " Sentiment(polarity=0.0, subjectivity=0.0),\n",
              " Sentiment(polarity=0.0, subjectivity=0.0),\n",
              " Sentiment(polarity=0.0, subjectivity=0.0),\n",
              " Sentiment(polarity=0.0, subjectivity=0.0),\n",
              " Sentiment(polarity=0.0, subjectivity=0.0),\n",
              " Sentiment(polarity=0.0, subjectivity=0.0),\n",
              " Sentiment(polarity=0.0, subjectivity=0.0),\n",
              " Sentiment(polarity=0.43333333333333335, subjectivity=0.8333333333333334),\n",
              " Sentiment(polarity=0.0, subjectivity=0.0),\n",
              " Sentiment(polarity=0.0, subjectivity=0.0),\n",
              " Sentiment(polarity=0.8, subjectivity=1.0),\n",
              " Sentiment(polarity=0.0, subjectivity=0.0),\n",
              " Sentiment(polarity=0.0, subjectivity=0.0)]"
            ]
          },
          "metadata": {
            "tags": []
          },
          "execution_count": 90
        }
      ]
    },
    {
      "cell_type": "markdown",
      "metadata": {
        "id": "lRwuAr8Ji4uV",
        "colab_type": "text"
      },
      "source": [
        "### Flair LSTM prediction"
      ]
    },
    {
      "cell_type": "code",
      "metadata": {
        "id": "H-P28QfCiXJ2",
        "colab_type": "code",
        "colab": {
          "base_uri": "https://localhost:8080/",
          "height": 35
        },
        "outputId": "43bf7a42-c9f4-4659-d632-e766d72ba165"
      },
      "source": [
        "flair_lstm(data)"
      ],
      "execution_count": 91,
      "outputs": [
        {
          "output_type": "execute_result",
          "data": {
            "text/plain": [
              "[POSITIVE (0.9965)]"
            ]
          },
          "metadata": {
            "tags": []
          },
          "execution_count": 91
        }
      ]
    },
    {
      "cell_type": "code",
      "metadata": {
        "id": "bHGmli2_3Vlw",
        "colab_type": "code",
        "colab": {
          "base_uri": "https://localhost:8080/",
          "height": 372
        },
        "outputId": "c39372eb-2e12-4ab1-b9be-c16a0650936f"
      },
      "source": [
        "print([i for i in data.split()])\n",
        "[(lambda x: flair_lstm(x))(x) for x in data.split()]"
      ],
      "execution_count": 92,
      "outputs": [
        {
          "output_type": "stream",
          "text": [
            "['I', 'love', 'working', 'hard!', 'The', 'following', 'sentence', 'is', 'a', 'fact:', 'done', 'school', 'examen!', 'easy', 'peasy', 'so', 'proud', 'of', 'myself!!!']\n"
          ],
          "name": "stdout"
        },
        {
          "output_type": "execute_result",
          "data": {
            "text/plain": [
              "[[POSITIVE (0.7267)],\n",
              " [POSITIVE (0.977)],\n",
              " [POSITIVE (0.9844)],\n",
              " [NEGATIVE (0.5737)],\n",
              " [POSITIVE (0.7762)],\n",
              " [POSITIVE (0.9282)],\n",
              " [NEGATIVE (0.9479)],\n",
              " [POSITIVE (0.7504)],\n",
              " [POSITIVE (0.9447)],\n",
              " [POSITIVE (0.9891)],\n",
              " [POSITIVE (0.9562)],\n",
              " [POSITIVE (0.9738)],\n",
              " [POSITIVE (0.825)],\n",
              " [POSITIVE (0.6901)],\n",
              " [POSITIVE (0.9985)],\n",
              " [NEGATIVE (0.9702)],\n",
              " [POSITIVE (0.9937)],\n",
              " [POSITIVE (0.8965)],\n",
              " [POSITIVE (0.9473)]]"
            ]
          },
          "metadata": {
            "tags": []
          },
          "execution_count": 92
        }
      ]
    },
    {
      "cell_type": "markdown",
      "metadata": {
        "id": "zzN_nUW_5zrF",
        "colab_type": "text"
      },
      "source": [
        "# **Graphs**"
      ]
    },
    {
      "cell_type": "code",
      "metadata": {
        "id": "BibH7gxF5tH-",
        "colab_type": "code",
        "colab": {}
      },
      "source": [
        "import matplotlib.pyplot as plt\n",
        "import numpy as np"
      ],
      "execution_count": 93,
      "outputs": []
    },
    {
      "cell_type": "code",
      "metadata": {
        "id": "4LfEOT_17r6s",
        "colab_type": "code",
        "colab": {}
      },
      "source": [
        "y_flair = [list(map(lambda x: x.score, score)) for score in [(lambda x: flair_lstm(x))(x) for x in data.split()]]\n",
        "y_flair = [x for b in y_flair for x in b]"
      ],
      "execution_count": 94,
      "outputs": []
    },
    {
      "cell_type": "code",
      "metadata": {
        "id": "0N7dy2V-I1b7",
        "colab_type": "code",
        "colab": {}
      },
      "source": [
        "x_flair = range(len(y_flair))"
      ],
      "execution_count": 95,
      "outputs": []
    },
    {
      "cell_type": "code",
      "metadata": {
        "id": "AggCuEG8Ftlp",
        "colab_type": "code",
        "colab": {}
      },
      "source": [
        "y_textblob_sentiment = np.array([(lambda x: text_blob_subjective(x)[0])(x) for x in data.split()])\n",
        "y_textblob_subjectivity = np.array([(lambda x: text_blob_subjective(x)[1])(x) for x in data.split()])"
      ],
      "execution_count": 96,
      "outputs": []
    },
    {
      "cell_type": "code",
      "metadata": {
        "id": "GzKPkYguIx_Y",
        "colab_type": "code",
        "colab": {}
      },
      "source": [
        "y_vader = [(lambda x: SIA.polarity_scores(x)['compound'])(x) for x in data.split()]"
      ],
      "execution_count": 97,
      "outputs": []
    },
    {
      "cell_type": "markdown",
      "metadata": {
        "id": "-3OGWkqMCypV",
        "colab_type": "text"
      },
      "source": [
        "## **Plotting bars**"
      ]
    },
    {
      "cell_type": "code",
      "metadata": {
        "id": "QW48_H7-_v1H",
        "colab_type": "code",
        "colab": {}
      },
      "source": [
        "def plot_bar(p1y, p2y, p3y, p4y, x, size):\n",
        "    plt.figure(figsize=size)\n",
        "    plt.bar(x, p1y, label='Flair', color='red')\n",
        "    plt.bar(x, p2y, label='TextBlob', color='blue')\n",
        "    plt.bar(x, p3y, label='Subjectivity', color='purple')\n",
        "    plt.bar(x, p4y, label='Vader', color='green')\n",
        "    plt.title('NLP SCORES PREDICTION vs WORDS')\n",
        "    plt.xlabel('range')\n",
        "    plt.ylabel('scores')\n",
        "    plt.legend(loc='upper left')\n",
        "    plt.xticks(rotation='vertical')\n",
        "    plt.tight_layout()\n",
        "    plt.grid(True)\n",
        "\n",
        "    plt.show()"
      ],
      "execution_count": 103,
      "outputs": []
    },
    {
      "cell_type": "code",
      "metadata": {
        "id": "ZQGZL70JCxnD",
        "colab_type": "code",
        "colab": {
          "base_uri": "https://localhost:8080/",
          "height": 585
        },
        "outputId": "7cdaf144-23c4-4b9c-b265-13d361da5791"
      },
      "source": [
        "plot_bar(\n",
        "    p1y=y_flair,\n",
        "    p2y=y_textblob_sentiment,\n",
        "    p3y=y_textblob_subjectivity,\n",
        "    p4y=y_vader,\n",
        "    x=x_flair,\n",
        "    size=(16,  8)\n",
        ")"
      ],
      "execution_count": 114,
      "outputs": [
        {
          "output_type": "display_data",
          "data": {
            "image/png": "[encoded data removed]",
            "text/plain": [
              "<Figure size 1152x576 with 1 Axes>"
            ]
          },
          "metadata": {
            "tags": [],
            "needs_background": "light"
          }
        }
      ]
    },
    {
      "cell_type": "markdown",
      "metadata": {
        "id": "xIJE1JOgC4HR",
        "colab_type": "text"
      },
      "source": [
        "## **Plotting lines**"
      ]
    },
    {
      "cell_type": "code",
      "metadata": {
        "id": "YSQ9W6c6A-Fp",
        "colab_type": "code",
        "colab": {}
      },
      "source": [
        "def plot_lines(p1y, p2y, p3y, p4y, x, size):\n",
        "    plt.figure(figsize=size)\n",
        "    plt.plot(x, p1y, linestyle='solid', color='red', label='Flair')\n",
        "    plt.plot(x, p2y, linestyle='solid', color='blue', label='TextBlob')\n",
        "    plt.plot(x, p3y, linestyle='dashed', color='purple', label='Subjectivity')\n",
        "    plt.plot(x, p4y, linestyle='solid', color='green', label='Vader')\n",
        "    plt.title('NLP SCORES PREDICTION vs WORDS')\n",
        "    plt.xlabel('length')\n",
        "    plt.ylabel('scores')\n",
        "    plt.legend()\n",
        "    plt.xticks(size=10, rotation='vertical')\n",
        "    plt.yticks(size=10)\n",
        "    plt.grid(True)\n",
        "    \n",
        "    plt.show()"
      ],
      "execution_count": 111,
      "outputs": []
    },
    {
      "cell_type": "code",
      "metadata": {
        "id": "rzZBWMa8CPga",
        "colab_type": "code",
        "colab": {
          "base_uri": "https://localhost:8080/",
          "height": 634
        },
        "outputId": "011dd757-f578-4a86-8ed6-f77d66456706"
      },
      "source": [
        "plot_lines(\n",
        "    p1y=y_flair,\n",
        "    p2y=y_textblob_sentiment,\n",
        "    p3y=y_textblob_subjectivity,\n",
        "    p4y=y_vader,\n",
        "    x=x_flair,\n",
        "    size=(20,  10)\n",
        ")"
      ],
      "execution_count": 115,
      "outputs": [
        {
          "output_type": "display_data",
          "data": {
            "image/png": "[encoded data removed]",
            "text/plain": [
              "<Figure size 1440x720 with 1 Axes>"
            ]
          },
          "metadata": {
            "tags": [],
            "needs_background": "light"
          }
        }
      ]
    }
  ]
}